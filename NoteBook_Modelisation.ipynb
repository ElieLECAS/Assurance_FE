{
 "cells": [
  {
   "cell_type": "code",
   "execution_count": 50,
   "metadata": {},
   "outputs": [],
   "source": [
    "import pickle\n",
    "import pandas as pd\n",
    "import numpy as np\n",
    "import seaborn as sns\n",
    "import matplotlib.pyplot as plt\n",
    "from scipy import stats\n",
    "from sklearn.pipeline import make_pipeline\n",
    "from sklearn.compose import ColumnTransformer\n",
    "from sklearn.model_selection import train_test_split, GridSearchCV\n",
    "from sklearn.linear_model import Lasso, Ridge, ElasticNet, LinearRegression\n",
    "from sklearn.metrics import mean_absolute_error, r2_score, mean_squared_error\n",
    "from sklearn.preprocessing import FunctionTransformer, KBinsDiscretizer, StandardScaler, MinMaxScaler, PolynomialFeatures, RobustScaler, OneHotEncoder"
   ]
  },
  {
   "cell_type": "markdown",
   "metadata": {},
   "source": [
    "Importation des modules et rechargement du module helpers :"
   ]
  },
  {
   "cell_type": "code",
   "execution_count": 51,
   "metadata": {},
   "outputs": [],
   "source": [
    "import importlib\n",
    "import helpers\n",
    "\n",
    "importlib.reload(helpers)\n",
    "from helpers import categorize_imc"
   ]
  },
  {
   "cell_type": "markdown",
   "metadata": {},
   "source": [
    "Chargement des données depuis un fichier CSV :"
   ]
  },
  {
   "cell_type": "code",
   "execution_count": 52,
   "metadata": {},
   "outputs": [],
   "source": [
    "data_path = \"Dataset_Brief.csv\"\n",
    "df = pd.read_csv(data_path)"
   ]
  },
  {
   "cell_type": "markdown",
   "metadata": {},
   "source": [
    "Calcul du taux de valeurs manquantes et suppression des lignes avec des valeurs manquantes :"
   ]
  },
  {
   "cell_type": "code",
   "execution_count": 53,
   "metadata": {},
   "outputs": [],
   "source": [
    "missing_rate = df.isna().sum()/df.shape[0]\n",
    "missing_rate\n",
    "df = df.dropna()"
   ]
  },
  {
   "cell_type": "markdown",
   "metadata": {},
   "source": [
    "Identification et suppression des doublons :"
   ]
  },
  {
   "cell_type": "code",
   "execution_count": 54,
   "metadata": {},
   "outputs": [
    {
     "name": "stdout",
     "output_type": "stream",
     "text": [
      "     age   sex    bmi  children smoker     region    charges\n",
      "195   19  male  30.59         0     no  northwest  1639.5631\n",
      "581   19  male  30.59         0     no  northwest  1639.5631\n",
      "(1337, 7)\n"
     ]
    }
   ],
   "source": [
    "duplicates = df[df.duplicated(keep=False)]\n",
    "print(duplicates)\n",
    "index_to_remove = 581\n",
    "df = df.drop(index_to_remove)\n",
    "df = df.reset_index(drop=True)\n",
    "print(df.shape)"
   ]
  },
  {
   "cell_type": "markdown",
   "metadata": {},
   "source": [
    "Définition des catégories pour la catégorisation de l'IMC (Indice de Masse Corporelle) :"
   ]
  },
  {
   "cell_type": "code",
   "execution_count": 55,
   "metadata": {},
   "outputs": [],
   "source": [
    "categories = {\n",
    "    'Underweight': (0, 18.5),\n",
    "    'Normal Weight': (18.5, 24.9),\n",
    "    'Overweight': (25, 29.9),\n",
    "    'Obesity Class I': (30, 34.9),\n",
    "    'Obesity Class II': (35, 39.9),\n",
    "    'Obesity Class III': (40, float('inf'))\n",
    "}"
   ]
  },
  {
   "cell_type": "markdown",
   "metadata": {},
   "source": [
    "Catégorisation de l'IMC et suppression de la colonne 'bmi' :"
   ]
  },
  {
   "cell_type": "code",
   "execution_count": 56,
   "metadata": {},
   "outputs": [
    {
     "data": {
      "text/html": [
       "<div>\n",
       "<style scoped>\n",
       "    .dataframe tbody tr th:only-of-type {\n",
       "        vertical-align: middle;\n",
       "    }\n",
       "\n",
       "    .dataframe tbody tr th {\n",
       "        vertical-align: top;\n",
       "    }\n",
       "\n",
       "    .dataframe thead th {\n",
       "        text-align: right;\n",
       "    }\n",
       "</style>\n",
       "<table border=\"1\" class=\"dataframe\">\n",
       "  <thead>\n",
       "    <tr style=\"text-align: right;\">\n",
       "      <th></th>\n",
       "      <th>age</th>\n",
       "      <th>sex</th>\n",
       "      <th>children</th>\n",
       "      <th>smoker</th>\n",
       "      <th>region</th>\n",
       "      <th>charges</th>\n",
       "      <th>imc_category</th>\n",
       "    </tr>\n",
       "  </thead>\n",
       "  <tbody>\n",
       "    <tr>\n",
       "      <th>0</th>\n",
       "      <td>19</td>\n",
       "      <td>female</td>\n",
       "      <td>0</td>\n",
       "      <td>yes</td>\n",
       "      <td>southwest</td>\n",
       "      <td>16884.92400</td>\n",
       "      <td>Overweight</td>\n",
       "    </tr>\n",
       "    <tr>\n",
       "      <th>1</th>\n",
       "      <td>18</td>\n",
       "      <td>male</td>\n",
       "      <td>1</td>\n",
       "      <td>no</td>\n",
       "      <td>southeast</td>\n",
       "      <td>1725.55230</td>\n",
       "      <td>Obesity Class I</td>\n",
       "    </tr>\n",
       "    <tr>\n",
       "      <th>2</th>\n",
       "      <td>28</td>\n",
       "      <td>male</td>\n",
       "      <td>3</td>\n",
       "      <td>no</td>\n",
       "      <td>southeast</td>\n",
       "      <td>4449.46200</td>\n",
       "      <td>Obesity Class I</td>\n",
       "    </tr>\n",
       "    <tr>\n",
       "      <th>3</th>\n",
       "      <td>33</td>\n",
       "      <td>male</td>\n",
       "      <td>0</td>\n",
       "      <td>no</td>\n",
       "      <td>northwest</td>\n",
       "      <td>21984.47061</td>\n",
       "      <td>Normal Weight</td>\n",
       "    </tr>\n",
       "    <tr>\n",
       "      <th>4</th>\n",
       "      <td>32</td>\n",
       "      <td>male</td>\n",
       "      <td>0</td>\n",
       "      <td>no</td>\n",
       "      <td>northwest</td>\n",
       "      <td>3866.85520</td>\n",
       "      <td>Overweight</td>\n",
       "    </tr>\n",
       "    <tr>\n",
       "      <th>...</th>\n",
       "      <td>...</td>\n",
       "      <td>...</td>\n",
       "      <td>...</td>\n",
       "      <td>...</td>\n",
       "      <td>...</td>\n",
       "      <td>...</td>\n",
       "      <td>...</td>\n",
       "    </tr>\n",
       "    <tr>\n",
       "      <th>1332</th>\n",
       "      <td>50</td>\n",
       "      <td>male</td>\n",
       "      <td>3</td>\n",
       "      <td>no</td>\n",
       "      <td>northwest</td>\n",
       "      <td>10600.54830</td>\n",
       "      <td>Obesity Class I</td>\n",
       "    </tr>\n",
       "    <tr>\n",
       "      <th>1333</th>\n",
       "      <td>18</td>\n",
       "      <td>female</td>\n",
       "      <td>0</td>\n",
       "      <td>no</td>\n",
       "      <td>northeast</td>\n",
       "      <td>2205.98080</td>\n",
       "      <td>Obesity Class I</td>\n",
       "    </tr>\n",
       "    <tr>\n",
       "      <th>1334</th>\n",
       "      <td>18</td>\n",
       "      <td>female</td>\n",
       "      <td>0</td>\n",
       "      <td>no</td>\n",
       "      <td>southeast</td>\n",
       "      <td>1629.83350</td>\n",
       "      <td>Obesity Class II</td>\n",
       "    </tr>\n",
       "    <tr>\n",
       "      <th>1335</th>\n",
       "      <td>21</td>\n",
       "      <td>female</td>\n",
       "      <td>0</td>\n",
       "      <td>no</td>\n",
       "      <td>southwest</td>\n",
       "      <td>2007.94500</td>\n",
       "      <td>Overweight</td>\n",
       "    </tr>\n",
       "    <tr>\n",
       "      <th>1336</th>\n",
       "      <td>61</td>\n",
       "      <td>female</td>\n",
       "      <td>0</td>\n",
       "      <td>yes</td>\n",
       "      <td>northwest</td>\n",
       "      <td>29141.36030</td>\n",
       "      <td>Overweight</td>\n",
       "    </tr>\n",
       "  </tbody>\n",
       "</table>\n",
       "<p>1337 rows × 7 columns</p>\n",
       "</div>"
      ],
      "text/plain": [
       "      age     sex  children smoker     region      charges      imc_category\n",
       "0      19  female         0    yes  southwest  16884.92400        Overweight\n",
       "1      18    male         1     no  southeast   1725.55230   Obesity Class I\n",
       "2      28    male         3     no  southeast   4449.46200   Obesity Class I\n",
       "3      33    male         0     no  northwest  21984.47061     Normal Weight\n",
       "4      32    male         0     no  northwest   3866.85520        Overweight\n",
       "...   ...     ...       ...    ...        ...          ...               ...\n",
       "1332   50    male         3     no  northwest  10600.54830   Obesity Class I\n",
       "1333   18  female         0     no  northeast   2205.98080   Obesity Class I\n",
       "1334   18  female         0     no  southeast   1629.83350  Obesity Class II\n",
       "1335   21  female         0     no  southwest   2007.94500        Overweight\n",
       "1336   61  female         0    yes  northwest  29141.36030        Overweight\n",
       "\n",
       "[1337 rows x 7 columns]"
      ]
     },
     "execution_count": 56,
     "metadata": {},
     "output_type": "execute_result"
    }
   ],
   "source": [
    "df['imc_category'] = df['bmi'].apply(categorize_imc, categories=categories)\n",
    "df = df.drop('bmi', axis=1)\n",
    "df"
   ]
  },
  {
   "cell_type": "markdown",
   "metadata": {},
   "source": [
    "Sélection des caractéristiques (features) :"
   ]
  },
  {
   "cell_type": "markdown",
   "metadata": {},
   "source": [
    "Séparation des données en ensembles d'entraînement et de test :"
   ]
  },
  {
   "cell_type": "code",
   "execution_count": 57,
   "metadata": {},
   "outputs": [],
   "source": [
    "X = df.drop('charges', axis=1)\n",
    "y = df.charges\n",
    "X_train, X_test, y_train, y_test = train_test_split(X, y, shuffle=True, train_size=0.85, random_state=42, stratify=X['smoker'])"
   ]
  },
  {
   "cell_type": "markdown",
   "metadata": {},
   "source": [
    "Identification des colonnes numériques et catégorielles :"
   ]
  },
  {
   "cell_type": "code",
   "execution_count": 58,
   "metadata": {},
   "outputs": [],
   "source": [
    "num_col = list(X.select_dtypes(include=[float,int]).columns)\n",
    "cat_col = list(X.select_dtypes(include=[object]).columns)"
   ]
  },
  {
   "cell_type": "markdown",
   "metadata": {},
   "source": [
    "Création des pipelines de prétraitement :"
   ]
  },
  {
   "cell_type": "code",
   "execution_count": 59,
   "metadata": {},
   "outputs": [],
   "source": [
    "onehotscale_pipeline = make_pipeline(OneHotEncoder(), RobustScaler(with_centering=False))\n",
    "scale_pipeline = make_pipeline(RobustScaler(with_centering=False))"
   ]
  },
  {
   "cell_type": "markdown",
   "metadata": {},
   "source": [
    "Prétraitement des données avec des pipelines :"
   ]
  },
  {
   "cell_type": "code",
   "execution_count": 60,
   "metadata": {},
   "outputs": [],
   "source": [
    "preprocessing = ColumnTransformer(\n",
    "    transformers=[\n",
    "        ('categorical', onehotscale_pipeline, cat_col),\n",
    "        ('numerical', scale_pipeline, num_col)]\n",
    ")"
   ]
  },
  {
   "cell_type": "markdown",
   "metadata": {},
   "source": [
    "Définition de la grille de recherche d'hyperparamètres :"
   ]
  },
  {
   "cell_type": "code",
   "execution_count": 61,
   "metadata": {},
   "outputs": [],
   "source": [
    "param_grid = {'lasso__alpha': list(range(36, 40))}"
   ]
  },
  {
   "cell_type": "markdown",
   "metadata": {},
   "source": [
    "Construction du pipeline final :"
   ]
  },
  {
   "cell_type": "code",
   "execution_count": 62,
   "metadata": {},
   "outputs": [],
   "source": [
    "polyscale_pipeline = make_pipeline(PolynomialFeatures(2))\n",
    "my_final_pipeline = make_pipeline(preprocessing, polyscale_pipeline)"
   ]
  },
  {
   "cell_type": "markdown",
   "metadata": {},
   "source": [
    "Entraînement du pipeline final sur les données d'entraînement :"
   ]
  },
  {
   "cell_type": "code",
   "execution_count": 63,
   "metadata": {},
   "outputs": [
    {
     "data": {
      "text/html": [
       "<style>#sk-container-id-5 {color: black;}#sk-container-id-5 pre{padding: 0;}#sk-container-id-5 div.sk-toggleable {background-color: white;}#sk-container-id-5 label.sk-toggleable__label {cursor: pointer;display: block;width: 100%;margin-bottom: 0;padding: 0.3em;box-sizing: border-box;text-align: center;}#sk-container-id-5 label.sk-toggleable__label-arrow:before {content: \"▸\";float: left;margin-right: 0.25em;color: #696969;}#sk-container-id-5 label.sk-toggleable__label-arrow:hover:before {color: black;}#sk-container-id-5 div.sk-estimator:hover label.sk-toggleable__label-arrow:before {color: black;}#sk-container-id-5 div.sk-toggleable__content {max-height: 0;max-width: 0;overflow: hidden;text-align: left;background-color: #f0f8ff;}#sk-container-id-5 div.sk-toggleable__content pre {margin: 0.2em;color: black;border-radius: 0.25em;background-color: #f0f8ff;}#sk-container-id-5 input.sk-toggleable__control:checked~div.sk-toggleable__content {max-height: 200px;max-width: 100%;overflow: auto;}#sk-container-id-5 input.sk-toggleable__control:checked~label.sk-toggleable__label-arrow:before {content: \"▾\";}#sk-container-id-5 div.sk-estimator input.sk-toggleable__control:checked~label.sk-toggleable__label {background-color: #d4ebff;}#sk-container-id-5 div.sk-label input.sk-toggleable__control:checked~label.sk-toggleable__label {background-color: #d4ebff;}#sk-container-id-5 input.sk-hidden--visually {border: 0;clip: rect(1px 1px 1px 1px);clip: rect(1px, 1px, 1px, 1px);height: 1px;margin: -1px;overflow: hidden;padding: 0;position: absolute;width: 1px;}#sk-container-id-5 div.sk-estimator {font-family: monospace;background-color: #f0f8ff;border: 1px dotted black;border-radius: 0.25em;box-sizing: border-box;margin-bottom: 0.5em;}#sk-container-id-5 div.sk-estimator:hover {background-color: #d4ebff;}#sk-container-id-5 div.sk-parallel-item::after {content: \"\";width: 100%;border-bottom: 1px solid gray;flex-grow: 1;}#sk-container-id-5 div.sk-label:hover label.sk-toggleable__label {background-color: #d4ebff;}#sk-container-id-5 div.sk-serial::before {content: \"\";position: absolute;border-left: 1px solid gray;box-sizing: border-box;top: 0;bottom: 0;left: 50%;z-index: 0;}#sk-container-id-5 div.sk-serial {display: flex;flex-direction: column;align-items: center;background-color: white;padding-right: 0.2em;padding-left: 0.2em;position: relative;}#sk-container-id-5 div.sk-item {position: relative;z-index: 1;}#sk-container-id-5 div.sk-parallel {display: flex;align-items: stretch;justify-content: center;background-color: white;position: relative;}#sk-container-id-5 div.sk-item::before, #sk-container-id-5 div.sk-parallel-item::before {content: \"\";position: absolute;border-left: 1px solid gray;box-sizing: border-box;top: 0;bottom: 0;left: 50%;z-index: -1;}#sk-container-id-5 div.sk-parallel-item {display: flex;flex-direction: column;z-index: 1;position: relative;background-color: white;}#sk-container-id-5 div.sk-parallel-item:first-child::after {align-self: flex-end;width: 50%;}#sk-container-id-5 div.sk-parallel-item:last-child::after {align-self: flex-start;width: 50%;}#sk-container-id-5 div.sk-parallel-item:only-child::after {width: 0;}#sk-container-id-5 div.sk-dashed-wrapped {border: 1px dashed gray;margin: 0 0.4em 0.5em 0.4em;box-sizing: border-box;padding-bottom: 0.4em;background-color: white;}#sk-container-id-5 div.sk-label label {font-family: monospace;font-weight: bold;display: inline-block;line-height: 1.2em;}#sk-container-id-5 div.sk-label-container {text-align: center;}#sk-container-id-5 div.sk-container {/* jupyter's `normalize.less` sets `[hidden] { display: none; }` but bootstrap.min.css set `[hidden] { display: none !important; }` so we also need the `!important` here to be able to override the default hidden behavior on the sphinx rendered scikit-learn.org. See: https://github.com/scikit-learn/scikit-learn/issues/21755 */display: inline-block !important;position: relative;}#sk-container-id-5 div.sk-text-repr-fallback {display: none;}</style><div id=\"sk-container-id-5\" class=\"sk-top-container\"><div class=\"sk-text-repr-fallback\"><pre>Pipeline(steps=[(&#x27;columntransformer&#x27;,\n",
       "                 ColumnTransformer(transformers=[(&#x27;categorical&#x27;,\n",
       "                                                  Pipeline(steps=[(&#x27;onehotencoder&#x27;,\n",
       "                                                                   OneHotEncoder()),\n",
       "                                                                  (&#x27;robustscaler&#x27;,\n",
       "                                                                   RobustScaler(with_centering=False))]),\n",
       "                                                  [&#x27;sex&#x27;, &#x27;smoker&#x27;, &#x27;region&#x27;,\n",
       "                                                   &#x27;imc_category&#x27;]),\n",
       "                                                 (&#x27;numerical&#x27;,\n",
       "                                                  Pipeline(steps=[(&#x27;robustscaler&#x27;,\n",
       "                                                                   RobustScaler(with_centering=False))]),\n",
       "                                                  [&#x27;age&#x27;, &#x27;children&#x27;])])),\n",
       "                (&#x27;pipeline&#x27;,\n",
       "                 Pipeline(steps=[(&#x27;polynomialfeatures&#x27;,\n",
       "                                  PolynomialFeatures())]))])</pre><b>In a Jupyter environment, please rerun this cell to show the HTML representation or trust the notebook. <br />On GitHub, the HTML representation is unable to render, please try loading this page with nbviewer.org.</b></div><div class=\"sk-container\" hidden><div class=\"sk-item sk-dashed-wrapped\"><div class=\"sk-label-container\"><div class=\"sk-label sk-toggleable\"><input class=\"sk-toggleable__control sk-hidden--visually\" id=\"sk-estimator-id-43\" type=\"checkbox\" ><label for=\"sk-estimator-id-43\" class=\"sk-toggleable__label sk-toggleable__label-arrow\">Pipeline</label><div class=\"sk-toggleable__content\"><pre>Pipeline(steps=[(&#x27;columntransformer&#x27;,\n",
       "                 ColumnTransformer(transformers=[(&#x27;categorical&#x27;,\n",
       "                                                  Pipeline(steps=[(&#x27;onehotencoder&#x27;,\n",
       "                                                                   OneHotEncoder()),\n",
       "                                                                  (&#x27;robustscaler&#x27;,\n",
       "                                                                   RobustScaler(with_centering=False))]),\n",
       "                                                  [&#x27;sex&#x27;, &#x27;smoker&#x27;, &#x27;region&#x27;,\n",
       "                                                   &#x27;imc_category&#x27;]),\n",
       "                                                 (&#x27;numerical&#x27;,\n",
       "                                                  Pipeline(steps=[(&#x27;robustscaler&#x27;,\n",
       "                                                                   RobustScaler(with_centering=False))]),\n",
       "                                                  [&#x27;age&#x27;, &#x27;children&#x27;])])),\n",
       "                (&#x27;pipeline&#x27;,\n",
       "                 Pipeline(steps=[(&#x27;polynomialfeatures&#x27;,\n",
       "                                  PolynomialFeatures())]))])</pre></div></div></div><div class=\"sk-serial\"><div class=\"sk-item sk-dashed-wrapped\"><div class=\"sk-label-container\"><div class=\"sk-label sk-toggleable\"><input class=\"sk-toggleable__control sk-hidden--visually\" id=\"sk-estimator-id-44\" type=\"checkbox\" ><label for=\"sk-estimator-id-44\" class=\"sk-toggleable__label sk-toggleable__label-arrow\">columntransformer: ColumnTransformer</label><div class=\"sk-toggleable__content\"><pre>ColumnTransformer(transformers=[(&#x27;categorical&#x27;,\n",
       "                                 Pipeline(steps=[(&#x27;onehotencoder&#x27;,\n",
       "                                                  OneHotEncoder()),\n",
       "                                                 (&#x27;robustscaler&#x27;,\n",
       "                                                  RobustScaler(with_centering=False))]),\n",
       "                                 [&#x27;sex&#x27;, &#x27;smoker&#x27;, &#x27;region&#x27;, &#x27;imc_category&#x27;]),\n",
       "                                (&#x27;numerical&#x27;,\n",
       "                                 Pipeline(steps=[(&#x27;robustscaler&#x27;,\n",
       "                                                  RobustScaler(with_centering=False))]),\n",
       "                                 [&#x27;age&#x27;, &#x27;children&#x27;])])</pre></div></div></div><div class=\"sk-parallel\"><div class=\"sk-parallel-item\"><div class=\"sk-item\"><div class=\"sk-label-container\"><div class=\"sk-label sk-toggleable\"><input class=\"sk-toggleable__control sk-hidden--visually\" id=\"sk-estimator-id-45\" type=\"checkbox\" ><label for=\"sk-estimator-id-45\" class=\"sk-toggleable__label sk-toggleable__label-arrow\">categorical</label><div class=\"sk-toggleable__content\"><pre>[&#x27;sex&#x27;, &#x27;smoker&#x27;, &#x27;region&#x27;, &#x27;imc_category&#x27;]</pre></div></div></div><div class=\"sk-serial\"><div class=\"sk-item\"><div class=\"sk-serial\"><div class=\"sk-item\"><div class=\"sk-estimator sk-toggleable\"><input class=\"sk-toggleable__control sk-hidden--visually\" id=\"sk-estimator-id-46\" type=\"checkbox\" ><label for=\"sk-estimator-id-46\" class=\"sk-toggleable__label sk-toggleable__label-arrow\">OneHotEncoder</label><div class=\"sk-toggleable__content\"><pre>OneHotEncoder()</pre></div></div></div><div class=\"sk-item\"><div class=\"sk-estimator sk-toggleable\"><input class=\"sk-toggleable__control sk-hidden--visually\" id=\"sk-estimator-id-47\" type=\"checkbox\" ><label for=\"sk-estimator-id-47\" class=\"sk-toggleable__label sk-toggleable__label-arrow\">RobustScaler</label><div class=\"sk-toggleable__content\"><pre>RobustScaler(with_centering=False)</pre></div></div></div></div></div></div></div></div><div class=\"sk-parallel-item\"><div class=\"sk-item\"><div class=\"sk-label-container\"><div class=\"sk-label sk-toggleable\"><input class=\"sk-toggleable__control sk-hidden--visually\" id=\"sk-estimator-id-48\" type=\"checkbox\" ><label for=\"sk-estimator-id-48\" class=\"sk-toggleable__label sk-toggleable__label-arrow\">numerical</label><div class=\"sk-toggleable__content\"><pre>[&#x27;age&#x27;, &#x27;children&#x27;]</pre></div></div></div><div class=\"sk-serial\"><div class=\"sk-item\"><div class=\"sk-serial\"><div class=\"sk-item\"><div class=\"sk-estimator sk-toggleable\"><input class=\"sk-toggleable__control sk-hidden--visually\" id=\"sk-estimator-id-49\" type=\"checkbox\" ><label for=\"sk-estimator-id-49\" class=\"sk-toggleable__label sk-toggleable__label-arrow\">RobustScaler</label><div class=\"sk-toggleable__content\"><pre>RobustScaler(with_centering=False)</pre></div></div></div></div></div></div></div></div></div></div><div class=\"sk-item\"><div class=\"sk-label-container\"><div class=\"sk-label sk-toggleable\"><input class=\"sk-toggleable__control sk-hidden--visually\" id=\"sk-estimator-id-50\" type=\"checkbox\" ><label for=\"sk-estimator-id-50\" class=\"sk-toggleable__label sk-toggleable__label-arrow\">pipeline: Pipeline</label><div class=\"sk-toggleable__content\"><pre>Pipeline(steps=[(&#x27;polynomialfeatures&#x27;, PolynomialFeatures())])</pre></div></div></div><div class=\"sk-serial\"><div class=\"sk-item\"><div class=\"sk-estimator sk-toggleable\"><input class=\"sk-toggleable__control sk-hidden--visually\" id=\"sk-estimator-id-51\" type=\"checkbox\" ><label for=\"sk-estimator-id-51\" class=\"sk-toggleable__label sk-toggleable__label-arrow\">PolynomialFeatures</label><div class=\"sk-toggleable__content\"><pre>PolynomialFeatures()</pre></div></div></div></div></div></div></div></div></div>"
      ],
      "text/plain": [
       "Pipeline(steps=[('columntransformer',\n",
       "                 ColumnTransformer(transformers=[('categorical',\n",
       "                                                  Pipeline(steps=[('onehotencoder',\n",
       "                                                                   OneHotEncoder()),\n",
       "                                                                  ('robustscaler',\n",
       "                                                                   RobustScaler(with_centering=False))]),\n",
       "                                                  ['sex', 'smoker', 'region',\n",
       "                                                   'imc_category']),\n",
       "                                                 ('numerical',\n",
       "                                                  Pipeline(steps=[('robustscaler',\n",
       "                                                                   RobustScaler(with_centering=False))]),\n",
       "                                                  ['age', 'children'])])),\n",
       "                ('pipeline',\n",
       "                 Pipeline(steps=[('polynomialfeatures',\n",
       "                                  PolynomialFeatures())]))])"
      ]
     },
     "execution_count": 63,
     "metadata": {},
     "output_type": "execute_result"
    }
   ],
   "source": [
    "my_final_pipeline.fit(X_train)"
   ]
  },
  {
   "cell_type": "code",
   "execution_count": 64,
   "metadata": {},
   "outputs": [
    {
     "data": {
      "text/plain": [
       "array(['1', 'categorical__sex_female', 'categorical__sex_male',\n",
       "       'categorical__smoker_no', 'categorical__smoker_yes',\n",
       "       'categorical__region_northeast', 'categorical__region_northwest',\n",
       "       'categorical__region_southeast', 'categorical__region_southwest',\n",
       "       'categorical__imc_category_Normal Weight',\n",
       "       'categorical__imc_category_Obesity Class I',\n",
       "       'categorical__imc_category_Obesity Class II',\n",
       "       'categorical__imc_category_Obesity Class III',\n",
       "       'categorical__imc_category_Overweight',\n",
       "       'categorical__imc_category_Underweight',\n",
       "       'categorical__imc_category_None', 'numerical__age',\n",
       "       'numerical__children', 'categorical__sex_female^2',\n",
       "       'categorical__sex_female categorical__sex_male',\n",
       "       'categorical__sex_female categorical__smoker_no',\n",
       "       'categorical__sex_female categorical__smoker_yes',\n",
       "       'categorical__sex_female categorical__region_northeast',\n",
       "       'categorical__sex_female categorical__region_northwest',\n",
       "       'categorical__sex_female categorical__region_southeast',\n",
       "       'categorical__sex_female categorical__region_southwest',\n",
       "       'categorical__sex_female categorical__imc_category_Normal Weight',\n",
       "       'categorical__sex_female categorical__imc_category_Obesity Class I',\n",
       "       'categorical__sex_female categorical__imc_category_Obesity Class II',\n",
       "       'categorical__sex_female categorical__imc_category_Obesity Class III',\n",
       "       'categorical__sex_female categorical__imc_category_Overweight',\n",
       "       'categorical__sex_female categorical__imc_category_Underweight',\n",
       "       'categorical__sex_female categorical__imc_category_None',\n",
       "       'categorical__sex_female numerical__age',\n",
       "       'categorical__sex_female numerical__children',\n",
       "       'categorical__sex_male^2',\n",
       "       'categorical__sex_male categorical__smoker_no',\n",
       "       'categorical__sex_male categorical__smoker_yes',\n",
       "       'categorical__sex_male categorical__region_northeast',\n",
       "       'categorical__sex_male categorical__region_northwest',\n",
       "       'categorical__sex_male categorical__region_southeast',\n",
       "       'categorical__sex_male categorical__region_southwest',\n",
       "       'categorical__sex_male categorical__imc_category_Normal Weight',\n",
       "       'categorical__sex_male categorical__imc_category_Obesity Class I',\n",
       "       'categorical__sex_male categorical__imc_category_Obesity Class II',\n",
       "       'categorical__sex_male categorical__imc_category_Obesity Class III',\n",
       "       'categorical__sex_male categorical__imc_category_Overweight',\n",
       "       'categorical__sex_male categorical__imc_category_Underweight',\n",
       "       'categorical__sex_male categorical__imc_category_None',\n",
       "       'categorical__sex_male numerical__age',\n",
       "       'categorical__sex_male numerical__children',\n",
       "       'categorical__smoker_no^2',\n",
       "       'categorical__smoker_no categorical__smoker_yes',\n",
       "       'categorical__smoker_no categorical__region_northeast',\n",
       "       'categorical__smoker_no categorical__region_northwest',\n",
       "       'categorical__smoker_no categorical__region_southeast',\n",
       "       'categorical__smoker_no categorical__region_southwest',\n",
       "       'categorical__smoker_no categorical__imc_category_Normal Weight',\n",
       "       'categorical__smoker_no categorical__imc_category_Obesity Class I',\n",
       "       'categorical__smoker_no categorical__imc_category_Obesity Class II',\n",
       "       'categorical__smoker_no categorical__imc_category_Obesity Class III',\n",
       "       'categorical__smoker_no categorical__imc_category_Overweight',\n",
       "       'categorical__smoker_no categorical__imc_category_Underweight',\n",
       "       'categorical__smoker_no categorical__imc_category_None',\n",
       "       'categorical__smoker_no numerical__age',\n",
       "       'categorical__smoker_no numerical__children',\n",
       "       'categorical__smoker_yes^2',\n",
       "       'categorical__smoker_yes categorical__region_northeast',\n",
       "       'categorical__smoker_yes categorical__region_northwest',\n",
       "       'categorical__smoker_yes categorical__region_southeast',\n",
       "       'categorical__smoker_yes categorical__region_southwest',\n",
       "       'categorical__smoker_yes categorical__imc_category_Normal Weight',\n",
       "       'categorical__smoker_yes categorical__imc_category_Obesity Class I',\n",
       "       'categorical__smoker_yes categorical__imc_category_Obesity Class II',\n",
       "       'categorical__smoker_yes categorical__imc_category_Obesity Class III',\n",
       "       'categorical__smoker_yes categorical__imc_category_Overweight',\n",
       "       'categorical__smoker_yes categorical__imc_category_Underweight',\n",
       "       'categorical__smoker_yes categorical__imc_category_None',\n",
       "       'categorical__smoker_yes numerical__age',\n",
       "       'categorical__smoker_yes numerical__children',\n",
       "       'categorical__region_northeast^2',\n",
       "       'categorical__region_northeast categorical__region_northwest',\n",
       "       'categorical__region_northeast categorical__region_southeast',\n",
       "       'categorical__region_northeast categorical__region_southwest',\n",
       "       'categorical__region_northeast categorical__imc_category_Normal Weight',\n",
       "       'categorical__region_northeast categorical__imc_category_Obesity Class I',\n",
       "       'categorical__region_northeast categorical__imc_category_Obesity Class II',\n",
       "       'categorical__region_northeast categorical__imc_category_Obesity Class III',\n",
       "       'categorical__region_northeast categorical__imc_category_Overweight',\n",
       "       'categorical__region_northeast categorical__imc_category_Underweight',\n",
       "       'categorical__region_northeast categorical__imc_category_None',\n",
       "       'categorical__region_northeast numerical__age',\n",
       "       'categorical__region_northeast numerical__children',\n",
       "       'categorical__region_northwest^2',\n",
       "       'categorical__region_northwest categorical__region_southeast',\n",
       "       'categorical__region_northwest categorical__region_southwest',\n",
       "       'categorical__region_northwest categorical__imc_category_Normal Weight',\n",
       "       'categorical__region_northwest categorical__imc_category_Obesity Class I',\n",
       "       'categorical__region_northwest categorical__imc_category_Obesity Class II',\n",
       "       'categorical__region_northwest categorical__imc_category_Obesity Class III',\n",
       "       'categorical__region_northwest categorical__imc_category_Overweight',\n",
       "       'categorical__region_northwest categorical__imc_category_Underweight',\n",
       "       'categorical__region_northwest categorical__imc_category_None',\n",
       "       'categorical__region_northwest numerical__age',\n",
       "       'categorical__region_northwest numerical__children',\n",
       "       'categorical__region_southeast^2',\n",
       "       'categorical__region_southeast categorical__region_southwest',\n",
       "       'categorical__region_southeast categorical__imc_category_Normal Weight',\n",
       "       'categorical__region_southeast categorical__imc_category_Obesity Class I',\n",
       "       'categorical__region_southeast categorical__imc_category_Obesity Class II',\n",
       "       'categorical__region_southeast categorical__imc_category_Obesity Class III',\n",
       "       'categorical__region_southeast categorical__imc_category_Overweight',\n",
       "       'categorical__region_southeast categorical__imc_category_Underweight',\n",
       "       'categorical__region_southeast categorical__imc_category_None',\n",
       "       'categorical__region_southeast numerical__age',\n",
       "       'categorical__region_southeast numerical__children',\n",
       "       'categorical__region_southwest^2',\n",
       "       'categorical__region_southwest categorical__imc_category_Normal Weight',\n",
       "       'categorical__region_southwest categorical__imc_category_Obesity Class I',\n",
       "       'categorical__region_southwest categorical__imc_category_Obesity Class II',\n",
       "       'categorical__region_southwest categorical__imc_category_Obesity Class III',\n",
       "       'categorical__region_southwest categorical__imc_category_Overweight',\n",
       "       'categorical__region_southwest categorical__imc_category_Underweight',\n",
       "       'categorical__region_southwest categorical__imc_category_None',\n",
       "       'categorical__region_southwest numerical__age',\n",
       "       'categorical__region_southwest numerical__children',\n",
       "       'categorical__imc_category_Normal Weight^2',\n",
       "       'categorical__imc_category_Normal Weight categorical__imc_category_Obesity Class I',\n",
       "       'categorical__imc_category_Normal Weight categorical__imc_category_Obesity Class II',\n",
       "       'categorical__imc_category_Normal Weight categorical__imc_category_Obesity Class III',\n",
       "       'categorical__imc_category_Normal Weight categorical__imc_category_Overweight',\n",
       "       'categorical__imc_category_Normal Weight categorical__imc_category_Underweight',\n",
       "       'categorical__imc_category_Normal Weight categorical__imc_category_None',\n",
       "       'categorical__imc_category_Normal Weight numerical__age',\n",
       "       'categorical__imc_category_Normal Weight numerical__children',\n",
       "       'categorical__imc_category_Obesity Class I^2',\n",
       "       'categorical__imc_category_Obesity Class I categorical__imc_category_Obesity Class II',\n",
       "       'categorical__imc_category_Obesity Class I categorical__imc_category_Obesity Class III',\n",
       "       'categorical__imc_category_Obesity Class I categorical__imc_category_Overweight',\n",
       "       'categorical__imc_category_Obesity Class I categorical__imc_category_Underweight',\n",
       "       'categorical__imc_category_Obesity Class I categorical__imc_category_None',\n",
       "       'categorical__imc_category_Obesity Class I numerical__age',\n",
       "       'categorical__imc_category_Obesity Class I numerical__children',\n",
       "       'categorical__imc_category_Obesity Class II^2',\n",
       "       'categorical__imc_category_Obesity Class II categorical__imc_category_Obesity Class III',\n",
       "       'categorical__imc_category_Obesity Class II categorical__imc_category_Overweight',\n",
       "       'categorical__imc_category_Obesity Class II categorical__imc_category_Underweight',\n",
       "       'categorical__imc_category_Obesity Class II categorical__imc_category_None',\n",
       "       'categorical__imc_category_Obesity Class II numerical__age',\n",
       "       'categorical__imc_category_Obesity Class II numerical__children',\n",
       "       'categorical__imc_category_Obesity Class III^2',\n",
       "       'categorical__imc_category_Obesity Class III categorical__imc_category_Overweight',\n",
       "       'categorical__imc_category_Obesity Class III categorical__imc_category_Underweight',\n",
       "       'categorical__imc_category_Obesity Class III categorical__imc_category_None',\n",
       "       'categorical__imc_category_Obesity Class III numerical__age',\n",
       "       'categorical__imc_category_Obesity Class III numerical__children',\n",
       "       'categorical__imc_category_Overweight^2',\n",
       "       'categorical__imc_category_Overweight categorical__imc_category_Underweight',\n",
       "       'categorical__imc_category_Overweight categorical__imc_category_None',\n",
       "       'categorical__imc_category_Overweight numerical__age',\n",
       "       'categorical__imc_category_Overweight numerical__children',\n",
       "       'categorical__imc_category_Underweight^2',\n",
       "       'categorical__imc_category_Underweight categorical__imc_category_None',\n",
       "       'categorical__imc_category_Underweight numerical__age',\n",
       "       'categorical__imc_category_Underweight numerical__children',\n",
       "       'categorical__imc_category_None^2',\n",
       "       'categorical__imc_category_None numerical__age',\n",
       "       'categorical__imc_category_None numerical__children',\n",
       "       'numerical__age^2', 'numerical__age numerical__children',\n",
       "       'numerical__children^2'], dtype=object)"
      ]
     },
     "execution_count": 64,
     "metadata": {},
     "output_type": "execute_result"
    }
   ],
   "source": [
    "feature_names = my_final_pipeline.get_feature_names_out(X.columns)\n",
    "feature_names"
   ]
  },
  {
   "cell_type": "markdown",
   "metadata": {},
   "source": [
    "Création du modèle de régression Lasso avec GridSearchCV :"
   ]
  },
  {
   "cell_type": "code",
   "execution_count": 65,
   "metadata": {},
   "outputs": [],
   "source": [
    "model = make_pipeline(\n",
    "    my_final_pipeline,\n",
    "    Lasso(random_state=42, max_iter=100000)\n",
    ")"
   ]
  },
  {
   "cell_type": "markdown",
   "metadata": {},
   "source": [
    "Entraînement du modèle Lasso avec recherche de grille :"
   ]
  },
  {
   "cell_type": "code",
   "execution_count": 66,
   "metadata": {},
   "outputs": [
    {
     "data": {
      "text/html": [
       "<style>#sk-container-id-6 {color: black;}#sk-container-id-6 pre{padding: 0;}#sk-container-id-6 div.sk-toggleable {background-color: white;}#sk-container-id-6 label.sk-toggleable__label {cursor: pointer;display: block;width: 100%;margin-bottom: 0;padding: 0.3em;box-sizing: border-box;text-align: center;}#sk-container-id-6 label.sk-toggleable__label-arrow:before {content: \"▸\";float: left;margin-right: 0.25em;color: #696969;}#sk-container-id-6 label.sk-toggleable__label-arrow:hover:before {color: black;}#sk-container-id-6 div.sk-estimator:hover label.sk-toggleable__label-arrow:before {color: black;}#sk-container-id-6 div.sk-toggleable__content {max-height: 0;max-width: 0;overflow: hidden;text-align: left;background-color: #f0f8ff;}#sk-container-id-6 div.sk-toggleable__content pre {margin: 0.2em;color: black;border-radius: 0.25em;background-color: #f0f8ff;}#sk-container-id-6 input.sk-toggleable__control:checked~div.sk-toggleable__content {max-height: 200px;max-width: 100%;overflow: auto;}#sk-container-id-6 input.sk-toggleable__control:checked~label.sk-toggleable__label-arrow:before {content: \"▾\";}#sk-container-id-6 div.sk-estimator input.sk-toggleable__control:checked~label.sk-toggleable__label {background-color: #d4ebff;}#sk-container-id-6 div.sk-label input.sk-toggleable__control:checked~label.sk-toggleable__label {background-color: #d4ebff;}#sk-container-id-6 input.sk-hidden--visually {border: 0;clip: rect(1px 1px 1px 1px);clip: rect(1px, 1px, 1px, 1px);height: 1px;margin: -1px;overflow: hidden;padding: 0;position: absolute;width: 1px;}#sk-container-id-6 div.sk-estimator {font-family: monospace;background-color: #f0f8ff;border: 1px dotted black;border-radius: 0.25em;box-sizing: border-box;margin-bottom: 0.5em;}#sk-container-id-6 div.sk-estimator:hover {background-color: #d4ebff;}#sk-container-id-6 div.sk-parallel-item::after {content: \"\";width: 100%;border-bottom: 1px solid gray;flex-grow: 1;}#sk-container-id-6 div.sk-label:hover label.sk-toggleable__label {background-color: #d4ebff;}#sk-container-id-6 div.sk-serial::before {content: \"\";position: absolute;border-left: 1px solid gray;box-sizing: border-box;top: 0;bottom: 0;left: 50%;z-index: 0;}#sk-container-id-6 div.sk-serial {display: flex;flex-direction: column;align-items: center;background-color: white;padding-right: 0.2em;padding-left: 0.2em;position: relative;}#sk-container-id-6 div.sk-item {position: relative;z-index: 1;}#sk-container-id-6 div.sk-parallel {display: flex;align-items: stretch;justify-content: center;background-color: white;position: relative;}#sk-container-id-6 div.sk-item::before, #sk-container-id-6 div.sk-parallel-item::before {content: \"\";position: absolute;border-left: 1px solid gray;box-sizing: border-box;top: 0;bottom: 0;left: 50%;z-index: -1;}#sk-container-id-6 div.sk-parallel-item {display: flex;flex-direction: column;z-index: 1;position: relative;background-color: white;}#sk-container-id-6 div.sk-parallel-item:first-child::after {align-self: flex-end;width: 50%;}#sk-container-id-6 div.sk-parallel-item:last-child::after {align-self: flex-start;width: 50%;}#sk-container-id-6 div.sk-parallel-item:only-child::after {width: 0;}#sk-container-id-6 div.sk-dashed-wrapped {border: 1px dashed gray;margin: 0 0.4em 0.5em 0.4em;box-sizing: border-box;padding-bottom: 0.4em;background-color: white;}#sk-container-id-6 div.sk-label label {font-family: monospace;font-weight: bold;display: inline-block;line-height: 1.2em;}#sk-container-id-6 div.sk-label-container {text-align: center;}#sk-container-id-6 div.sk-container {/* jupyter's `normalize.less` sets `[hidden] { display: none; }` but bootstrap.min.css set `[hidden] { display: none !important; }` so we also need the `!important` here to be able to override the default hidden behavior on the sphinx rendered scikit-learn.org. See: https://github.com/scikit-learn/scikit-learn/issues/21755 */display: inline-block !important;position: relative;}#sk-container-id-6 div.sk-text-repr-fallback {display: none;}</style><div id=\"sk-container-id-6\" class=\"sk-top-container\"><div class=\"sk-text-repr-fallback\"><pre>GridSearchCV(cv=5,\n",
       "             estimator=Pipeline(steps=[(&#x27;pipeline&#x27;,\n",
       "                                        Pipeline(steps=[(&#x27;columntransformer&#x27;,\n",
       "                                                         ColumnTransformer(transformers=[(&#x27;categorical&#x27;,\n",
       "                                                                                          Pipeline(steps=[(&#x27;onehotencoder&#x27;,\n",
       "                                                                                                           OneHotEncoder()),\n",
       "                                                                                                          (&#x27;robustscaler&#x27;,\n",
       "                                                                                                           RobustScaler(with_centering=False))]),\n",
       "                                                                                          [&#x27;sex&#x27;,\n",
       "                                                                                           &#x27;smoker&#x27;,\n",
       "                                                                                           &#x27;region&#x27;,\n",
       "                                                                                           &#x27;imc_category&#x27;]),\n",
       "                                                                                         (&#x27;numerical&#x27;,\n",
       "                                                                                          Pipeline(steps=[(&#x27;robustscaler&#x27;,\n",
       "                                                                                                           RobustScaler(with_centering=False))]),\n",
       "                                                                                          [&#x27;age&#x27;,\n",
       "                                                                                           &#x27;children&#x27;])])),\n",
       "                                                        (&#x27;pipeline&#x27;,\n",
       "                                                         Pipeline(steps=[(&#x27;polynomialfeatures&#x27;,\n",
       "                                                                          PolynomialFeatures())]))])),\n",
       "                                       (&#x27;lasso&#x27;,\n",
       "                                        Lasso(max_iter=100000,\n",
       "                                              random_state=42))]),\n",
       "             param_grid={&#x27;lasso__alpha&#x27;: [36, 37, 38, 39]})</pre><b>In a Jupyter environment, please rerun this cell to show the HTML representation or trust the notebook. <br />On GitHub, the HTML representation is unable to render, please try loading this page with nbviewer.org.</b></div><div class=\"sk-container\" hidden><div class=\"sk-item sk-dashed-wrapped\"><div class=\"sk-label-container\"><div class=\"sk-label sk-toggleable\"><input class=\"sk-toggleable__control sk-hidden--visually\" id=\"sk-estimator-id-52\" type=\"checkbox\" ><label for=\"sk-estimator-id-52\" class=\"sk-toggleable__label sk-toggleable__label-arrow\">GridSearchCV</label><div class=\"sk-toggleable__content\"><pre>GridSearchCV(cv=5,\n",
       "             estimator=Pipeline(steps=[(&#x27;pipeline&#x27;,\n",
       "                                        Pipeline(steps=[(&#x27;columntransformer&#x27;,\n",
       "                                                         ColumnTransformer(transformers=[(&#x27;categorical&#x27;,\n",
       "                                                                                          Pipeline(steps=[(&#x27;onehotencoder&#x27;,\n",
       "                                                                                                           OneHotEncoder()),\n",
       "                                                                                                          (&#x27;robustscaler&#x27;,\n",
       "                                                                                                           RobustScaler(with_centering=False))]),\n",
       "                                                                                          [&#x27;sex&#x27;,\n",
       "                                                                                           &#x27;smoker&#x27;,\n",
       "                                                                                           &#x27;region&#x27;,\n",
       "                                                                                           &#x27;imc_category&#x27;]),\n",
       "                                                                                         (&#x27;numerical&#x27;,\n",
       "                                                                                          Pipeline(steps=[(&#x27;robustscaler&#x27;,\n",
       "                                                                                                           RobustScaler(with_centering=False))]),\n",
       "                                                                                          [&#x27;age&#x27;,\n",
       "                                                                                           &#x27;children&#x27;])])),\n",
       "                                                        (&#x27;pipeline&#x27;,\n",
       "                                                         Pipeline(steps=[(&#x27;polynomialfeatures&#x27;,\n",
       "                                                                          PolynomialFeatures())]))])),\n",
       "                                       (&#x27;lasso&#x27;,\n",
       "                                        Lasso(max_iter=100000,\n",
       "                                              random_state=42))]),\n",
       "             param_grid={&#x27;lasso__alpha&#x27;: [36, 37, 38, 39]})</pre></div></div></div><div class=\"sk-parallel\"><div class=\"sk-parallel-item\"><div class=\"sk-item\"><div class=\"sk-label-container\"><div class=\"sk-label sk-toggleable\"><input class=\"sk-toggleable__control sk-hidden--visually\" id=\"sk-estimator-id-53\" type=\"checkbox\" ><label for=\"sk-estimator-id-53\" class=\"sk-toggleable__label sk-toggleable__label-arrow\">estimator: Pipeline</label><div class=\"sk-toggleable__content\"><pre>Pipeline(steps=[(&#x27;pipeline&#x27;,\n",
       "                 Pipeline(steps=[(&#x27;columntransformer&#x27;,\n",
       "                                  ColumnTransformer(transformers=[(&#x27;categorical&#x27;,\n",
       "                                                                   Pipeline(steps=[(&#x27;onehotencoder&#x27;,\n",
       "                                                                                    OneHotEncoder()),\n",
       "                                                                                   (&#x27;robustscaler&#x27;,\n",
       "                                                                                    RobustScaler(with_centering=False))]),\n",
       "                                                                   [&#x27;sex&#x27;,\n",
       "                                                                    &#x27;smoker&#x27;,\n",
       "                                                                    &#x27;region&#x27;,\n",
       "                                                                    &#x27;imc_category&#x27;]),\n",
       "                                                                  (&#x27;numerical&#x27;,\n",
       "                                                                   Pipeline(steps=[(&#x27;robustscaler&#x27;,\n",
       "                                                                                    RobustScaler(with_centering=False))]),\n",
       "                                                                   [&#x27;age&#x27;,\n",
       "                                                                    &#x27;children&#x27;])])),\n",
       "                                 (&#x27;pipeline&#x27;,\n",
       "                                  Pipeline(steps=[(&#x27;polynomialfeatures&#x27;,\n",
       "                                                   PolynomialFeatures())]))])),\n",
       "                (&#x27;lasso&#x27;, Lasso(max_iter=100000, random_state=42))])</pre></div></div></div><div class=\"sk-serial\"><div class=\"sk-item\"><div class=\"sk-serial\"><div class=\"sk-item\"><div class=\"sk-label-container\"><div class=\"sk-label sk-toggleable\"><input class=\"sk-toggleable__control sk-hidden--visually\" id=\"sk-estimator-id-54\" type=\"checkbox\" ><label for=\"sk-estimator-id-54\" class=\"sk-toggleable__label sk-toggleable__label-arrow\">pipeline: Pipeline</label><div class=\"sk-toggleable__content\"><pre>Pipeline(steps=[(&#x27;columntransformer&#x27;,\n",
       "                 ColumnTransformer(transformers=[(&#x27;categorical&#x27;,\n",
       "                                                  Pipeline(steps=[(&#x27;onehotencoder&#x27;,\n",
       "                                                                   OneHotEncoder()),\n",
       "                                                                  (&#x27;robustscaler&#x27;,\n",
       "                                                                   RobustScaler(with_centering=False))]),\n",
       "                                                  [&#x27;sex&#x27;, &#x27;smoker&#x27;, &#x27;region&#x27;,\n",
       "                                                   &#x27;imc_category&#x27;]),\n",
       "                                                 (&#x27;numerical&#x27;,\n",
       "                                                  Pipeline(steps=[(&#x27;robustscaler&#x27;,\n",
       "                                                                   RobustScaler(with_centering=False))]),\n",
       "                                                  [&#x27;age&#x27;, &#x27;children&#x27;])])),\n",
       "                (&#x27;pipeline&#x27;,\n",
       "                 Pipeline(steps=[(&#x27;polynomialfeatures&#x27;,\n",
       "                                  PolynomialFeatures())]))])</pre></div></div></div><div class=\"sk-serial\"><div class=\"sk-item sk-dashed-wrapped\"><div class=\"sk-label-container\"><div class=\"sk-label sk-toggleable\"><input class=\"sk-toggleable__control sk-hidden--visually\" id=\"sk-estimator-id-55\" type=\"checkbox\" ><label for=\"sk-estimator-id-55\" class=\"sk-toggleable__label sk-toggleable__label-arrow\">columntransformer: ColumnTransformer</label><div class=\"sk-toggleable__content\"><pre>ColumnTransformer(transformers=[(&#x27;categorical&#x27;,\n",
       "                                 Pipeline(steps=[(&#x27;onehotencoder&#x27;,\n",
       "                                                  OneHotEncoder()),\n",
       "                                                 (&#x27;robustscaler&#x27;,\n",
       "                                                  RobustScaler(with_centering=False))]),\n",
       "                                 [&#x27;sex&#x27;, &#x27;smoker&#x27;, &#x27;region&#x27;, &#x27;imc_category&#x27;]),\n",
       "                                (&#x27;numerical&#x27;,\n",
       "                                 Pipeline(steps=[(&#x27;robustscaler&#x27;,\n",
       "                                                  RobustScaler(with_centering=False))]),\n",
       "                                 [&#x27;age&#x27;, &#x27;children&#x27;])])</pre></div></div></div><div class=\"sk-parallel\"><div class=\"sk-parallel-item\"><div class=\"sk-item\"><div class=\"sk-label-container\"><div class=\"sk-label sk-toggleable\"><input class=\"sk-toggleable__control sk-hidden--visually\" id=\"sk-estimator-id-56\" type=\"checkbox\" ><label for=\"sk-estimator-id-56\" class=\"sk-toggleable__label sk-toggleable__label-arrow\">categorical</label><div class=\"sk-toggleable__content\"><pre>[&#x27;sex&#x27;, &#x27;smoker&#x27;, &#x27;region&#x27;, &#x27;imc_category&#x27;]</pre></div></div></div><div class=\"sk-serial\"><div class=\"sk-item\"><div class=\"sk-serial\"><div class=\"sk-item\"><div class=\"sk-estimator sk-toggleable\"><input class=\"sk-toggleable__control sk-hidden--visually\" id=\"sk-estimator-id-57\" type=\"checkbox\" ><label for=\"sk-estimator-id-57\" class=\"sk-toggleable__label sk-toggleable__label-arrow\">OneHotEncoder</label><div class=\"sk-toggleable__content\"><pre>OneHotEncoder()</pre></div></div></div><div class=\"sk-item\"><div class=\"sk-estimator sk-toggleable\"><input class=\"sk-toggleable__control sk-hidden--visually\" id=\"sk-estimator-id-58\" type=\"checkbox\" ><label for=\"sk-estimator-id-58\" class=\"sk-toggleable__label sk-toggleable__label-arrow\">RobustScaler</label><div class=\"sk-toggleable__content\"><pre>RobustScaler(with_centering=False)</pre></div></div></div></div></div></div></div></div><div class=\"sk-parallel-item\"><div class=\"sk-item\"><div class=\"sk-label-container\"><div class=\"sk-label sk-toggleable\"><input class=\"sk-toggleable__control sk-hidden--visually\" id=\"sk-estimator-id-59\" type=\"checkbox\" ><label for=\"sk-estimator-id-59\" class=\"sk-toggleable__label sk-toggleable__label-arrow\">numerical</label><div class=\"sk-toggleable__content\"><pre>[&#x27;age&#x27;, &#x27;children&#x27;]</pre></div></div></div><div class=\"sk-serial\"><div class=\"sk-item\"><div class=\"sk-serial\"><div class=\"sk-item\"><div class=\"sk-estimator sk-toggleable\"><input class=\"sk-toggleable__control sk-hidden--visually\" id=\"sk-estimator-id-60\" type=\"checkbox\" ><label for=\"sk-estimator-id-60\" class=\"sk-toggleable__label sk-toggleable__label-arrow\">RobustScaler</label><div class=\"sk-toggleable__content\"><pre>RobustScaler(with_centering=False)</pre></div></div></div></div></div></div></div></div></div></div><div class=\"sk-item\"><div class=\"sk-label-container\"><div class=\"sk-label sk-toggleable\"><input class=\"sk-toggleable__control sk-hidden--visually\" id=\"sk-estimator-id-61\" type=\"checkbox\" ><label for=\"sk-estimator-id-61\" class=\"sk-toggleable__label sk-toggleable__label-arrow\">pipeline: Pipeline</label><div class=\"sk-toggleable__content\"><pre>Pipeline(steps=[(&#x27;polynomialfeatures&#x27;, PolynomialFeatures())])</pre></div></div></div><div class=\"sk-serial\"><div class=\"sk-item\"><div class=\"sk-estimator sk-toggleable\"><input class=\"sk-toggleable__control sk-hidden--visually\" id=\"sk-estimator-id-62\" type=\"checkbox\" ><label for=\"sk-estimator-id-62\" class=\"sk-toggleable__label sk-toggleable__label-arrow\">PolynomialFeatures</label><div class=\"sk-toggleable__content\"><pre>PolynomialFeatures()</pre></div></div></div></div></div></div></div><div class=\"sk-item\"><div class=\"sk-estimator sk-toggleable\"><input class=\"sk-toggleable__control sk-hidden--visually\" id=\"sk-estimator-id-63\" type=\"checkbox\" ><label for=\"sk-estimator-id-63\" class=\"sk-toggleable__label sk-toggleable__label-arrow\">Lasso</label><div class=\"sk-toggleable__content\"><pre>Lasso(max_iter=100000, random_state=42)</pre></div></div></div></div></div></div></div></div></div></div></div></div>"
      ],
      "text/plain": [
       "GridSearchCV(cv=5,\n",
       "             estimator=Pipeline(steps=[('pipeline',\n",
       "                                        Pipeline(steps=[('columntransformer',\n",
       "                                                         ColumnTransformer(transformers=[('categorical',\n",
       "                                                                                          Pipeline(steps=[('onehotencoder',\n",
       "                                                                                                           OneHotEncoder()),\n",
       "                                                                                                          ('robustscaler',\n",
       "                                                                                                           RobustScaler(with_centering=False))]),\n",
       "                                                                                          ['sex',\n",
       "                                                                                           'smoker',\n",
       "                                                                                           'region',\n",
       "                                                                                           'imc_category']),\n",
       "                                                                                         ('numerical',\n",
       "                                                                                          Pipeline(steps=[('robustscaler',\n",
       "                                                                                                           RobustScaler(with_centering=False))]),\n",
       "                                                                                          ['age',\n",
       "                                                                                           'children'])])),\n",
       "                                                        ('pipeline',\n",
       "                                                         Pipeline(steps=[('polynomialfeatures',\n",
       "                                                                          PolynomialFeatures())]))])),\n",
       "                                       ('lasso',\n",
       "                                        Lasso(max_iter=100000,\n",
       "                                              random_state=42))]),\n",
       "             param_grid={'lasso__alpha': [36, 37, 38, 39]})"
      ]
     },
     "execution_count": 66,
     "metadata": {},
     "output_type": "execute_result"
    }
   ],
   "source": [
    "model = GridSearchCV(model, param_grid,cv =5)\n",
    "model.fit(X_train, y_train)"
   ]
  },
  {
   "cell_type": "markdown",
   "metadata": {},
   "source": [
    "Évaluation du modèle sur les données d'entraînement :"
   ]
  },
  {
   "cell_type": "code",
   "execution_count": 67,
   "metadata": {},
   "outputs": [],
   "source": [
    "grid_score = model.score(X_train, y_train)\n",
    "best_alpha = model.best_params_['lasso__alpha']"
   ]
  },
  {
   "cell_type": "markdown",
   "metadata": {},
   "source": [
    "Prédiction sur les données de test :"
   ]
  },
  {
   "cell_type": "code",
   "execution_count": 68,
   "metadata": {},
   "outputs": [],
   "source": [
    "y_pred = model.predict(X_test)"
   ]
  },
  {
   "cell_type": "markdown",
   "metadata": {},
   "source": [
    "Évaluation du modèle :"
   ]
  },
  {
   "cell_type": "code",
   "execution_count": 69,
   "metadata": {},
   "outputs": [
    {
     "name": "stdout",
     "output_type": "stream",
     "text": [
      "Performance du modèle après suppression des valeurs extrêmes:\n",
      "0.8559809626895564\n",
      "{'lasso__alpha': 36}\n",
      "R2 Score: 0.9231\n",
      "MAE: 2051.44\n",
      "RMSE: 3338.52\n"
     ]
    }
   ],
   "source": [
    "r2_cleaned = r2_score(y_test, y_pred)\n",
    "mse_cleaned = mean_squared_error(y_test, y_pred)\n",
    "mae = mean_absolute_error(y_test, y_pred)\n",
    "rmse_cleaned = np.sqrt(mse_cleaned)\n",
    "\n",
    "print(\"Performance du modèle après suppression des valeurs extrêmes:\")\n",
    "print(grid_score)\n",
    "print(model.best_params_)\n",
    "print(f\"R2 Score: {r2_cleaned:.4f}\")\n",
    "print(f\"MAE: {mae:.2f}\")\n",
    "print(f\"RMSE: {rmse_cleaned:.2f}\")"
   ]
  },
  {
   "cell_type": "markdown",
   "metadata": {},
   "source": [
    "Sauvegarde du modèle :"
   ]
  },
  {
   "cell_type": "code",
   "execution_count": 70,
   "metadata": {},
   "outputs": [],
   "source": [
    "with open('modele.pkl', 'wb') as file:\n",
    "    pickle.dump(model, file)"
   ]
  }
 ],
 "metadata": {
  "kernelspec": {
   "display_name": "Python 3",
   "language": "python",
   "name": "python3"
  },
  "language_info": {
   "codemirror_mode": {
    "name": "ipython",
    "version": 3
   },
   "file_extension": ".py",
   "mimetype": "text/x-python",
   "name": "python",
   "nbconvert_exporter": "python",
   "pygments_lexer": "ipython3",
   "version": "3.11.3"
  }
 },
 "nbformat": 4,
 "nbformat_minor": 2
}
