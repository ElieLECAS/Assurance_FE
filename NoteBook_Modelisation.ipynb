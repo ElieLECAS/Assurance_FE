{
 "cells": [
  {
   "cell_type": "code",
   "execution_count": 1,
   "metadata": {},
   "outputs": [],
   "source": [
    "import pickle\n",
    "import pandas as pd\n",
    "import numpy as np\n",
    "import seaborn as sns\n",
    "import matplotlib.pyplot as plt\n",
    "from scipy import stats\n",
    "from sklearn.pipeline import make_pipeline\n",
    "from sklearn.compose import ColumnTransformer\n",
    "from sklearn.model_selection import train_test_split, GridSearchCV\n",
    "from sklearn.linear_model import Lasso, Ridge, ElasticNet, LinearRegression\n",
    "from sklearn.metrics import mean_absolute_error, r2_score, mean_squared_error\n",
    "from sklearn.preprocessing import FunctionTransformer, KBinsDiscretizer, StandardScaler, MinMaxScaler, PolynomialFeatures, RobustScaler, OneHotEncoder"
   ]
  },
  {
   "cell_type": "markdown",
   "metadata": {},
   "source": [
    "Importation des modules et rechargement du module helpers :"
   ]
  },
  {
   "cell_type": "code",
   "execution_count": 2,
   "metadata": {},
   "outputs": [],
   "source": [
    "import importlib\n",
    "import helpers\n",
    "\n",
    "importlib.reload(helpers)\n",
    "from helpers import categorize_imc"
   ]
  },
  {
   "cell_type": "markdown",
   "metadata": {},
   "source": [
    "Chargement des données depuis un fichier CSV :"
   ]
  },
  {
   "cell_type": "code",
   "execution_count": 3,
   "metadata": {},
   "outputs": [],
   "source": [
    "data_path = \"Dataset_Brief.csv\"\n",
    "df = pd.read_csv(data_path)"
   ]
  },
  {
   "cell_type": "markdown",
   "metadata": {},
   "source": [
    "Calcul du taux de valeurs manquantes et suppression des lignes avec des valeurs manquantes :"
   ]
  },
  {
   "cell_type": "code",
   "execution_count": 4,
   "metadata": {},
   "outputs": [],
   "source": [
    "missing_rate = df.isna().sum()/df.shape[0]\n",
    "missing_rate\n",
    "df = df.dropna()"
   ]
  },
  {
   "cell_type": "markdown",
   "metadata": {},
   "source": [
    "Identification et suppression des doublons :"
   ]
  },
  {
   "cell_type": "code",
   "execution_count": 5,
   "metadata": {},
   "outputs": [
    {
     "name": "stdout",
     "output_type": "stream",
     "text": [
      "     age   sex    bmi  children smoker     region    charges\n",
      "195   19  male  30.59         0     no  northwest  1639.5631\n",
      "581   19  male  30.59         0     no  northwest  1639.5631\n",
      "(1337, 7)\n"
     ]
    }
   ],
   "source": [
    "duplicates = df[df.duplicated(keep=False)]\n",
    "print(duplicates)\n",
    "index_to_remove = 581\n",
    "df = df.drop(index_to_remove)\n",
    "df = df.reset_index(drop=True)\n",
    "print(df.shape)"
   ]
  },
  {
   "cell_type": "markdown",
   "metadata": {},
   "source": [
    "Définition des catégories pour la catégorisation de l'IMC (Indice de Masse Corporelle) :"
   ]
  },
  {
   "cell_type": "code",
   "execution_count": 6,
   "metadata": {},
   "outputs": [],
   "source": [
    "categories = {\n",
    "    'Underweight': (0, 18.5),\n",
    "    'Normal Weight': (18.5, 24.9),\n",
    "    'Overweight': (25, 29.9),\n",
    "    'Obesity Class I': (30, 34.9),\n",
    "    'Obesity Class II': (35, 39.9),\n",
    "    'Obesity Class III': (40, float('inf'))\n",
    "}"
   ]
  },
  {
   "cell_type": "markdown",
   "metadata": {},
   "source": [
    "Catégorisation de l'IMC et suppression de la colonne 'bmi' :"
   ]
  },
  {
   "cell_type": "code",
   "execution_count": 7,
   "metadata": {},
   "outputs": [
    {
     "ename": "NameError",
     "evalue": "name 'categories' is not defined",
     "output_type": "error",
     "traceback": [
      "\u001b[0;31m---------------------------------------------------------------------------\u001b[0m",
      "\u001b[0;31mNameError\u001b[0m                                 Traceback (most recent call last)",
      "Cell \u001b[0;32mIn[7], line 1\u001b[0m\n\u001b[0;32m----> 1\u001b[0m df[\u001b[38;5;124m'\u001b[39m\u001b[38;5;124mimc_category\u001b[39m\u001b[38;5;124m'\u001b[39m] \u001b[38;5;241m=\u001b[39m \u001b[43mdf\u001b[49m\u001b[43m[\u001b[49m\u001b[38;5;124;43m'\u001b[39;49m\u001b[38;5;124;43mbmi\u001b[39;49m\u001b[38;5;124;43m'\u001b[39;49m\u001b[43m]\u001b[49m\u001b[38;5;241;43m.\u001b[39;49m\u001b[43mapply\u001b[49m\u001b[43m(\u001b[49m\u001b[43mcategorize_imc\u001b[49m\u001b[43m)\u001b[49m\n\u001b[1;32m      2\u001b[0m df \u001b[38;5;241m=\u001b[39m df\u001b[38;5;241m.\u001b[39mdrop(\u001b[38;5;124m'\u001b[39m\u001b[38;5;124mbmi\u001b[39m\u001b[38;5;124m'\u001b[39m, axis\u001b[38;5;241m=\u001b[39m\u001b[38;5;241m1\u001b[39m)\n\u001b[1;32m      3\u001b[0m df\n",
      "File \u001b[0;32m~/.local/lib/python3.10/site-packages/pandas/core/series.py:4357\u001b[0m, in \u001b[0;36mSeries.apply\u001b[0;34m(self, func, convert_dtype, args, **kwargs)\u001b[0m\n\u001b[1;32m   4247\u001b[0m \u001b[38;5;28;01mdef\u001b[39;00m \u001b[38;5;21mapply\u001b[39m(\n\u001b[1;32m   4248\u001b[0m     \u001b[38;5;28mself\u001b[39m,\n\u001b[1;32m   4249\u001b[0m     func: AggFuncType,\n\u001b[0;32m   (...)\u001b[0m\n\u001b[1;32m   4252\u001b[0m     \u001b[38;5;241m*\u001b[39m\u001b[38;5;241m*\u001b[39mkwargs,\n\u001b[1;32m   4253\u001b[0m ) \u001b[38;5;241m-\u001b[39m\u001b[38;5;241m>\u001b[39m FrameOrSeriesUnion:\n\u001b[1;32m   4254\u001b[0m \u001b[38;5;250m    \u001b[39m\u001b[38;5;124;03m\"\"\"\u001b[39;00m\n\u001b[1;32m   4255\u001b[0m \u001b[38;5;124;03m    Invoke function on values of Series.\u001b[39;00m\n\u001b[1;32m   4256\u001b[0m \n\u001b[0;32m   (...)\u001b[0m\n\u001b[1;32m   4355\u001b[0m \u001b[38;5;124;03m    dtype: float64\u001b[39;00m\n\u001b[1;32m   4356\u001b[0m \u001b[38;5;124;03m    \"\"\"\u001b[39;00m\n\u001b[0;32m-> 4357\u001b[0m     \u001b[38;5;28;01mreturn\u001b[39;00m \u001b[43mSeriesApply\u001b[49m\u001b[43m(\u001b[49m\u001b[38;5;28;43mself\u001b[39;49m\u001b[43m,\u001b[49m\u001b[43m \u001b[49m\u001b[43mfunc\u001b[49m\u001b[43m,\u001b[49m\u001b[43m \u001b[49m\u001b[43mconvert_dtype\u001b[49m\u001b[43m,\u001b[49m\u001b[43m \u001b[49m\u001b[43margs\u001b[49m\u001b[43m,\u001b[49m\u001b[43m \u001b[49m\u001b[43mkwargs\u001b[49m\u001b[43m)\u001b[49m\u001b[38;5;241;43m.\u001b[39;49m\u001b[43mapply\u001b[49m\u001b[43m(\u001b[49m\u001b[43m)\u001b[49m\n",
      "File \u001b[0;32m~/.local/lib/python3.10/site-packages/pandas/core/apply.py:1043\u001b[0m, in \u001b[0;36mSeriesApply.apply\u001b[0;34m(self)\u001b[0m\n\u001b[1;32m   1039\u001b[0m \u001b[38;5;28;01mif\u001b[39;00m \u001b[38;5;28misinstance\u001b[39m(\u001b[38;5;28mself\u001b[39m\u001b[38;5;241m.\u001b[39mf, \u001b[38;5;28mstr\u001b[39m):\n\u001b[1;32m   1040\u001b[0m     \u001b[38;5;66;03m# if we are a string, try to dispatch\u001b[39;00m\n\u001b[1;32m   1041\u001b[0m     \u001b[38;5;28;01mreturn\u001b[39;00m \u001b[38;5;28mself\u001b[39m\u001b[38;5;241m.\u001b[39mapply_str()\n\u001b[0;32m-> 1043\u001b[0m \u001b[38;5;28;01mreturn\u001b[39;00m \u001b[38;5;28;43mself\u001b[39;49m\u001b[38;5;241;43m.\u001b[39;49m\u001b[43mapply_standard\u001b[49m\u001b[43m(\u001b[49m\u001b[43m)\u001b[49m\n",
      "File \u001b[0;32m~/.local/lib/python3.10/site-packages/pandas/core/apply.py:1099\u001b[0m, in \u001b[0;36mSeriesApply.apply_standard\u001b[0;34m(self)\u001b[0m\n\u001b[1;32m   1093\u001b[0m         values \u001b[38;5;241m=\u001b[39m obj\u001b[38;5;241m.\u001b[39mastype(\u001b[38;5;28mobject\u001b[39m)\u001b[38;5;241m.\u001b[39m_values\n\u001b[1;32m   1094\u001b[0m         \u001b[38;5;66;03m# error: Argument 2 to \"map_infer\" has incompatible type\u001b[39;00m\n\u001b[1;32m   1095\u001b[0m         \u001b[38;5;66;03m# \"Union[Callable[..., Any], str, List[Union[Callable[..., Any], str]],\u001b[39;00m\n\u001b[1;32m   1096\u001b[0m         \u001b[38;5;66;03m# Dict[Hashable, Union[Union[Callable[..., Any], str],\u001b[39;00m\n\u001b[1;32m   1097\u001b[0m         \u001b[38;5;66;03m# List[Union[Callable[..., Any], str]]]]]\"; expected\u001b[39;00m\n\u001b[1;32m   1098\u001b[0m         \u001b[38;5;66;03m# \"Callable[[Any], Any]\"\u001b[39;00m\n\u001b[0;32m-> 1099\u001b[0m         mapped \u001b[38;5;241m=\u001b[39m \u001b[43mlib\u001b[49m\u001b[38;5;241;43m.\u001b[39;49m\u001b[43mmap_infer\u001b[49m\u001b[43m(\u001b[49m\n\u001b[1;32m   1100\u001b[0m \u001b[43m            \u001b[49m\u001b[43mvalues\u001b[49m\u001b[43m,\u001b[49m\n\u001b[1;32m   1101\u001b[0m \u001b[43m            \u001b[49m\u001b[43mf\u001b[49m\u001b[43m,\u001b[49m\u001b[43m  \u001b[49m\u001b[38;5;66;43;03m# type: ignore[arg-type]\u001b[39;49;00m\n\u001b[1;32m   1102\u001b[0m \u001b[43m            \u001b[49m\u001b[43mconvert\u001b[49m\u001b[38;5;241;43m=\u001b[39;49m\u001b[38;5;28;43mself\u001b[39;49m\u001b[38;5;241;43m.\u001b[39;49m\u001b[43mconvert_dtype\u001b[49m\u001b[43m,\u001b[49m\n\u001b[1;32m   1103\u001b[0m \u001b[43m        \u001b[49m\u001b[43m)\u001b[49m\n\u001b[1;32m   1105\u001b[0m \u001b[38;5;28;01mif\u001b[39;00m \u001b[38;5;28mlen\u001b[39m(mapped) \u001b[38;5;129;01mand\u001b[39;00m \u001b[38;5;28misinstance\u001b[39m(mapped[\u001b[38;5;241m0\u001b[39m], ABCSeries):\n\u001b[1;32m   1106\u001b[0m     \u001b[38;5;66;03m# GH 25959 use pd.array instead of tolist\u001b[39;00m\n\u001b[1;32m   1107\u001b[0m     \u001b[38;5;66;03m# so extension arrays can be used\u001b[39;00m\n\u001b[1;32m   1108\u001b[0m     \u001b[38;5;28;01mreturn\u001b[39;00m obj\u001b[38;5;241m.\u001b[39m_constructor_expanddim(pd_array(mapped), index\u001b[38;5;241m=\u001b[39mobj\u001b[38;5;241m.\u001b[39mindex)\n",
      "File \u001b[0;32m~/.local/lib/python3.10/site-packages/pandas/_libs/lib.pyx:2859\u001b[0m, in \u001b[0;36mpandas._libs.lib.map_infer\u001b[0;34m()\u001b[0m\n",
      "File \u001b[0;32m~/Documents/Code/Dev IA/Assurance_FE/helpers.py:2\u001b[0m, in \u001b[0;36mcategorize_imc\u001b[0;34m(bmi)\u001b[0m\n\u001b[1;32m      1\u001b[0m \u001b[38;5;28;01mdef\u001b[39;00m \u001b[38;5;21mcategorize_imc\u001b[39m(bmi):\n\u001b[0;32m----> 2\u001b[0m     \u001b[38;5;28;01mfor\u001b[39;00m category, (lower, upper) \u001b[38;5;129;01min\u001b[39;00m \u001b[43mcategories\u001b[49m\u001b[38;5;241m.\u001b[39mitems():\n\u001b[1;32m      3\u001b[0m         \u001b[38;5;28;01mif\u001b[39;00m lower \u001b[38;5;241m<\u001b[39m\u001b[38;5;241m=\u001b[39m bmi \u001b[38;5;241m<\u001b[39m\u001b[38;5;241m=\u001b[39m upper:\n\u001b[1;32m      4\u001b[0m             \u001b[38;5;28;01mreturn\u001b[39;00m category\n",
      "\u001b[0;31mNameError\u001b[0m: name 'categories' is not defined"
     ]
    }
   ],
   "source": [
    "df['imc_category'] = df['bmi'].apply(categorize_imc)\n",
    "df = df.drop('bmi', axis=1)\n",
    "df"
   ]
  },
  {
   "cell_type": "markdown",
   "metadata": {},
   "source": [
    "Sélection des caractéristiques (features) :"
   ]
  },
  {
   "cell_type": "markdown",
   "metadata": {},
   "source": [
    "Séparation des données en ensembles d'entraînement et de test :"
   ]
  },
  {
   "cell_type": "code",
   "execution_count": null,
   "metadata": {},
   "outputs": [],
   "source": [
    "X = df.drop('charges', axis=1)\n",
    "y = df.charges\n",
    "X_train, X_test, y_train, y_test = train_test_split(X, y, shuffle=True, train_size=0.85, random_state=42, stratify=X['smoker'])"
   ]
  },
  {
   "cell_type": "markdown",
   "metadata": {},
   "source": [
    "Identification des colonnes numériques et catégorielles :"
   ]
  },
  {
   "cell_type": "code",
   "execution_count": null,
   "metadata": {},
   "outputs": [],
   "source": [
    "num_col = list(X.select_dtypes(include=[float,int]).columns)\n",
    "cat_col = list(X.select_dtypes(include=[object]).columns)"
   ]
  },
  {
   "cell_type": "markdown",
   "metadata": {},
   "source": [
    "Création des pipelines de prétraitement :"
   ]
  },
  {
   "cell_type": "code",
   "execution_count": null,
   "metadata": {},
   "outputs": [],
   "source": [
    "onehotscale_pipeline = make_pipeline(OneHotEncoder(), RobustScaler(with_centering=False))\n",
    "scale_pipeline = make_pipeline(RobustScaler(with_centering=False))"
   ]
  },
  {
   "cell_type": "markdown",
   "metadata": {},
   "source": [
    "Prétraitement des données avec des pipelines :"
   ]
  },
  {
   "cell_type": "code",
   "execution_count": null,
   "metadata": {},
   "outputs": [],
   "source": [
    "preprocessing = ColumnTransformer(\n",
    "    transformers=[\n",
    "        ('categorical', onehotscale_pipeline, cat_col),\n",
    "        ('numerical', scale_pipeline, num_col)]\n",
    ")"
   ]
  },
  {
   "cell_type": "markdown",
   "metadata": {},
   "source": [
    "Définition de la grille de recherche d'hyperparamètres :"
   ]
  },
  {
   "cell_type": "code",
   "execution_count": null,
   "metadata": {},
   "outputs": [],
   "source": [
    "param_grid = {'lasso__alpha': list(range(36, 40))}"
   ]
  },
  {
   "cell_type": "markdown",
   "metadata": {},
   "source": [
    "Construction du pipeline final :"
   ]
  },
  {
   "cell_type": "code",
   "execution_count": null,
   "metadata": {},
   "outputs": [],
   "source": [
    "polyscale_pipeline = make_pipeline(PolynomialFeatures(2))\n",
    "my_final_pipeline = make_pipeline(preprocessing, polyscale_pipeline)"
   ]
  },
  {
   "cell_type": "markdown",
   "metadata": {},
   "source": [
    "Entraînement du pipeline final sur les données d'entraînement :"
   ]
  },
  {
   "cell_type": "code",
   "execution_count": null,
   "metadata": {},
   "outputs": [
    {
     "data": {
      "text/html": [
       "<style>#sk-container-id-31 {color: black;}#sk-container-id-31 pre{padding: 0;}#sk-container-id-31 div.sk-toggleable {background-color: white;}#sk-container-id-31 label.sk-toggleable__label {cursor: pointer;display: block;width: 100%;margin-bottom: 0;padding: 0.3em;box-sizing: border-box;text-align: center;}#sk-container-id-31 label.sk-toggleable__label-arrow:before {content: \"▸\";float: left;margin-right: 0.25em;color: #696969;}#sk-container-id-31 label.sk-toggleable__label-arrow:hover:before {color: black;}#sk-container-id-31 div.sk-estimator:hover label.sk-toggleable__label-arrow:before {color: black;}#sk-container-id-31 div.sk-toggleable__content {max-height: 0;max-width: 0;overflow: hidden;text-align: left;background-color: #f0f8ff;}#sk-container-id-31 div.sk-toggleable__content pre {margin: 0.2em;color: black;border-radius: 0.25em;background-color: #f0f8ff;}#sk-container-id-31 input.sk-toggleable__control:checked~div.sk-toggleable__content {max-height: 200px;max-width: 100%;overflow: auto;}#sk-container-id-31 input.sk-toggleable__control:checked~label.sk-toggleable__label-arrow:before {content: \"▾\";}#sk-container-id-31 div.sk-estimator input.sk-toggleable__control:checked~label.sk-toggleable__label {background-color: #d4ebff;}#sk-container-id-31 div.sk-label input.sk-toggleable__control:checked~label.sk-toggleable__label {background-color: #d4ebff;}#sk-container-id-31 input.sk-hidden--visually {border: 0;clip: rect(1px 1px 1px 1px);clip: rect(1px, 1px, 1px, 1px);height: 1px;margin: -1px;overflow: hidden;padding: 0;position: absolute;width: 1px;}#sk-container-id-31 div.sk-estimator {font-family: monospace;background-color: #f0f8ff;border: 1px dotted black;border-radius: 0.25em;box-sizing: border-box;margin-bottom: 0.5em;}#sk-container-id-31 div.sk-estimator:hover {background-color: #d4ebff;}#sk-container-id-31 div.sk-parallel-item::after {content: \"\";width: 100%;border-bottom: 1px solid gray;flex-grow: 1;}#sk-container-id-31 div.sk-label:hover label.sk-toggleable__label {background-color: #d4ebff;}#sk-container-id-31 div.sk-serial::before {content: \"\";position: absolute;border-left: 1px solid gray;box-sizing: border-box;top: 0;bottom: 0;left: 50%;z-index: 0;}#sk-container-id-31 div.sk-serial {display: flex;flex-direction: column;align-items: center;background-color: white;padding-right: 0.2em;padding-left: 0.2em;position: relative;}#sk-container-id-31 div.sk-item {position: relative;z-index: 1;}#sk-container-id-31 div.sk-parallel {display: flex;align-items: stretch;justify-content: center;background-color: white;position: relative;}#sk-container-id-31 div.sk-item::before, #sk-container-id-31 div.sk-parallel-item::before {content: \"\";position: absolute;border-left: 1px solid gray;box-sizing: border-box;top: 0;bottom: 0;left: 50%;z-index: -1;}#sk-container-id-31 div.sk-parallel-item {display: flex;flex-direction: column;z-index: 1;position: relative;background-color: white;}#sk-container-id-31 div.sk-parallel-item:first-child::after {align-self: flex-end;width: 50%;}#sk-container-id-31 div.sk-parallel-item:last-child::after {align-self: flex-start;width: 50%;}#sk-container-id-31 div.sk-parallel-item:only-child::after {width: 0;}#sk-container-id-31 div.sk-dashed-wrapped {border: 1px dashed gray;margin: 0 0.4em 0.5em 0.4em;box-sizing: border-box;padding-bottom: 0.4em;background-color: white;}#sk-container-id-31 div.sk-label label {font-family: monospace;font-weight: bold;display: inline-block;line-height: 1.2em;}#sk-container-id-31 div.sk-label-container {text-align: center;}#sk-container-id-31 div.sk-container {/* jupyter's `normalize.less` sets `[hidden] { display: none; }` but bootstrap.min.css set `[hidden] { display: none !important; }` so we also need the `!important` here to be able to override the default hidden behavior on the sphinx rendered scikit-learn.org. See: https://github.com/scikit-learn/scikit-learn/issues/21755 */display: inline-block !important;position: relative;}#sk-container-id-31 div.sk-text-repr-fallback {display: none;}</style><div id=\"sk-container-id-31\" class=\"sk-top-container\"><div class=\"sk-text-repr-fallback\"><pre>Pipeline(steps=[(&#x27;columntransformer&#x27;,\n",
       "                 ColumnTransformer(transformers=[(&#x27;categorical&#x27;,\n",
       "                                                  Pipeline(steps=[(&#x27;onehotencoder&#x27;,\n",
       "                                                                   OneHotEncoder()),\n",
       "                                                                  (&#x27;robustscaler&#x27;,\n",
       "                                                                   RobustScaler(with_centering=False))]),\n",
       "                                                  [&#x27;sex&#x27;, &#x27;smoker&#x27;, &#x27;region&#x27;,\n",
       "                                                   &#x27;imc_category&#x27;]),\n",
       "                                                 (&#x27;numerical&#x27;,\n",
       "                                                  Pipeline(steps=[(&#x27;robustscaler&#x27;,\n",
       "                                                                   RobustScaler(with_centering=False))]),\n",
       "                                                  [&#x27;age&#x27;, &#x27;children&#x27;])])),\n",
       "                (&#x27;pipeline&#x27;,\n",
       "                 Pipeline(steps=[(&#x27;polynomialfeatures&#x27;,\n",
       "                                  PolynomialFeatures())]))])</pre><b>In a Jupyter environment, please rerun this cell to show the HTML representation or trust the notebook. <br />On GitHub, the HTML representation is unable to render, please try loading this page with nbviewer.org.</b></div><div class=\"sk-container\" hidden><div class=\"sk-item sk-dashed-wrapped\"><div class=\"sk-label-container\"><div class=\"sk-label sk-toggleable\"><input class=\"sk-toggleable__control sk-hidden--visually\" id=\"sk-estimator-id-329\" type=\"checkbox\" ><label for=\"sk-estimator-id-329\" class=\"sk-toggleable__label sk-toggleable__label-arrow\">Pipeline</label><div class=\"sk-toggleable__content\"><pre>Pipeline(steps=[(&#x27;columntransformer&#x27;,\n",
       "                 ColumnTransformer(transformers=[(&#x27;categorical&#x27;,\n",
       "                                                  Pipeline(steps=[(&#x27;onehotencoder&#x27;,\n",
       "                                                                   OneHotEncoder()),\n",
       "                                                                  (&#x27;robustscaler&#x27;,\n",
       "                                                                   RobustScaler(with_centering=False))]),\n",
       "                                                  [&#x27;sex&#x27;, &#x27;smoker&#x27;, &#x27;region&#x27;,\n",
       "                                                   &#x27;imc_category&#x27;]),\n",
       "                                                 (&#x27;numerical&#x27;,\n",
       "                                                  Pipeline(steps=[(&#x27;robustscaler&#x27;,\n",
       "                                                                   RobustScaler(with_centering=False))]),\n",
       "                                                  [&#x27;age&#x27;, &#x27;children&#x27;])])),\n",
       "                (&#x27;pipeline&#x27;,\n",
       "                 Pipeline(steps=[(&#x27;polynomialfeatures&#x27;,\n",
       "                                  PolynomialFeatures())]))])</pre></div></div></div><div class=\"sk-serial\"><div class=\"sk-item sk-dashed-wrapped\"><div class=\"sk-label-container\"><div class=\"sk-label sk-toggleable\"><input class=\"sk-toggleable__control sk-hidden--visually\" id=\"sk-estimator-id-330\" type=\"checkbox\" ><label for=\"sk-estimator-id-330\" class=\"sk-toggleable__label sk-toggleable__label-arrow\">columntransformer: ColumnTransformer</label><div class=\"sk-toggleable__content\"><pre>ColumnTransformer(transformers=[(&#x27;categorical&#x27;,\n",
       "                                 Pipeline(steps=[(&#x27;onehotencoder&#x27;,\n",
       "                                                  OneHotEncoder()),\n",
       "                                                 (&#x27;robustscaler&#x27;,\n",
       "                                                  RobustScaler(with_centering=False))]),\n",
       "                                 [&#x27;sex&#x27;, &#x27;smoker&#x27;, &#x27;region&#x27;, &#x27;imc_category&#x27;]),\n",
       "                                (&#x27;numerical&#x27;,\n",
       "                                 Pipeline(steps=[(&#x27;robustscaler&#x27;,\n",
       "                                                  RobustScaler(with_centering=False))]),\n",
       "                                 [&#x27;age&#x27;, &#x27;children&#x27;])])</pre></div></div></div><div class=\"sk-parallel\"><div class=\"sk-parallel-item\"><div class=\"sk-item\"><div class=\"sk-label-container\"><div class=\"sk-label sk-toggleable\"><input class=\"sk-toggleable__control sk-hidden--visually\" id=\"sk-estimator-id-331\" type=\"checkbox\" ><label for=\"sk-estimator-id-331\" class=\"sk-toggleable__label sk-toggleable__label-arrow\">categorical</label><div class=\"sk-toggleable__content\"><pre>[&#x27;sex&#x27;, &#x27;smoker&#x27;, &#x27;region&#x27;, &#x27;imc_category&#x27;]</pre></div></div></div><div class=\"sk-serial\"><div class=\"sk-item\"><div class=\"sk-serial\"><div class=\"sk-item\"><div class=\"sk-estimator sk-toggleable\"><input class=\"sk-toggleable__control sk-hidden--visually\" id=\"sk-estimator-id-332\" type=\"checkbox\" ><label for=\"sk-estimator-id-332\" class=\"sk-toggleable__label sk-toggleable__label-arrow\">OneHotEncoder</label><div class=\"sk-toggleable__content\"><pre>OneHotEncoder()</pre></div></div></div><div class=\"sk-item\"><div class=\"sk-estimator sk-toggleable\"><input class=\"sk-toggleable__control sk-hidden--visually\" id=\"sk-estimator-id-333\" type=\"checkbox\" ><label for=\"sk-estimator-id-333\" class=\"sk-toggleable__label sk-toggleable__label-arrow\">RobustScaler</label><div class=\"sk-toggleable__content\"><pre>RobustScaler(with_centering=False)</pre></div></div></div></div></div></div></div></div><div class=\"sk-parallel-item\"><div class=\"sk-item\"><div class=\"sk-label-container\"><div class=\"sk-label sk-toggleable\"><input class=\"sk-toggleable__control sk-hidden--visually\" id=\"sk-estimator-id-334\" type=\"checkbox\" ><label for=\"sk-estimator-id-334\" class=\"sk-toggleable__label sk-toggleable__label-arrow\">numerical</label><div class=\"sk-toggleable__content\"><pre>[&#x27;age&#x27;, &#x27;children&#x27;]</pre></div></div></div><div class=\"sk-serial\"><div class=\"sk-item\"><div class=\"sk-serial\"><div class=\"sk-item\"><div class=\"sk-estimator sk-toggleable\"><input class=\"sk-toggleable__control sk-hidden--visually\" id=\"sk-estimator-id-335\" type=\"checkbox\" ><label for=\"sk-estimator-id-335\" class=\"sk-toggleable__label sk-toggleable__label-arrow\">RobustScaler</label><div class=\"sk-toggleable__content\"><pre>RobustScaler(with_centering=False)</pre></div></div></div></div></div></div></div></div></div></div><div class=\"sk-item\"><div class=\"sk-label-container\"><div class=\"sk-label sk-toggleable\"><input class=\"sk-toggleable__control sk-hidden--visually\" id=\"sk-estimator-id-336\" type=\"checkbox\" ><label for=\"sk-estimator-id-336\" class=\"sk-toggleable__label sk-toggleable__label-arrow\">pipeline: Pipeline</label><div class=\"sk-toggleable__content\"><pre>Pipeline(steps=[(&#x27;polynomialfeatures&#x27;, PolynomialFeatures())])</pre></div></div></div><div class=\"sk-serial\"><div class=\"sk-item\"><div class=\"sk-estimator sk-toggleable\"><input class=\"sk-toggleable__control sk-hidden--visually\" id=\"sk-estimator-id-337\" type=\"checkbox\" ><label for=\"sk-estimator-id-337\" class=\"sk-toggleable__label sk-toggleable__label-arrow\">PolynomialFeatures</label><div class=\"sk-toggleable__content\"><pre>PolynomialFeatures()</pre></div></div></div></div></div></div></div></div></div>"
      ],
      "text/plain": [
       "Pipeline(steps=[('columntransformer',\n",
       "                 ColumnTransformer(transformers=[('categorical',\n",
       "                                                  Pipeline(steps=[('onehotencoder',\n",
       "                                                                   OneHotEncoder()),\n",
       "                                                                  ('robustscaler',\n",
       "                                                                   RobustScaler(with_centering=False))]),\n",
       "                                                  ['sex', 'smoker', 'region',\n",
       "                                                   'imc_category']),\n",
       "                                                 ('numerical',\n",
       "                                                  Pipeline(steps=[('robustscaler',\n",
       "                                                                   RobustScaler(with_centering=False))]),\n",
       "                                                  ['age', 'children'])])),\n",
       "                ('pipeline',\n",
       "                 Pipeline(steps=[('polynomialfeatures',\n",
       "                                  PolynomialFeatures())]))])"
      ]
     },
     "execution_count": 376,
     "metadata": {},
     "output_type": "execute_result"
    }
   ],
   "source": [
    "my_final_pipeline.fit(X_train)"
   ]
  },
  {
   "cell_type": "code",
   "execution_count": null,
   "metadata": {},
   "outputs": [
    {
     "data": {
      "text/plain": [
       "array(['1', 'categorical__sex_female', 'categorical__sex_male',\n",
       "       'categorical__smoker_no', 'categorical__smoker_yes',\n",
       "       'categorical__region_northeast', 'categorical__region_northwest',\n",
       "       'categorical__region_southeast', 'categorical__region_southwest',\n",
       "       'categorical__imc_category_Normal Weight',\n",
       "       'categorical__imc_category_Obesity Class I',\n",
       "       'categorical__imc_category_Obesity Class II',\n",
       "       'categorical__imc_category_Obesity Class III',\n",
       "       'categorical__imc_category_Overweight',\n",
       "       'categorical__imc_category_Underweight',\n",
       "       'categorical__imc_category_None', 'numerical__age',\n",
       "       'numerical__children', 'categorical__sex_female^2',\n",
       "       'categorical__sex_female categorical__sex_male',\n",
       "       'categorical__sex_female categorical__smoker_no',\n",
       "       'categorical__sex_female categorical__smoker_yes',\n",
       "       'categorical__sex_female categorical__region_northeast',\n",
       "       'categorical__sex_female categorical__region_northwest',\n",
       "       'categorical__sex_female categorical__region_southeast',\n",
       "       'categorical__sex_female categorical__region_southwest',\n",
       "       'categorical__sex_female categorical__imc_category_Normal Weight',\n",
       "       'categorical__sex_female categorical__imc_category_Obesity Class I',\n",
       "       'categorical__sex_female categorical__imc_category_Obesity Class II',\n",
       "       'categorical__sex_female categorical__imc_category_Obesity Class III',\n",
       "       'categorical__sex_female categorical__imc_category_Overweight',\n",
       "       'categorical__sex_female categorical__imc_category_Underweight',\n",
       "       'categorical__sex_female categorical__imc_category_None',\n",
       "       'categorical__sex_female numerical__age',\n",
       "       'categorical__sex_female numerical__children',\n",
       "       'categorical__sex_male^2',\n",
       "       'categorical__sex_male categorical__smoker_no',\n",
       "       'categorical__sex_male categorical__smoker_yes',\n",
       "       'categorical__sex_male categorical__region_northeast',\n",
       "       'categorical__sex_male categorical__region_northwest',\n",
       "       'categorical__sex_male categorical__region_southeast',\n",
       "       'categorical__sex_male categorical__region_southwest',\n",
       "       'categorical__sex_male categorical__imc_category_Normal Weight',\n",
       "       'categorical__sex_male categorical__imc_category_Obesity Class I',\n",
       "       'categorical__sex_male categorical__imc_category_Obesity Class II',\n",
       "       'categorical__sex_male categorical__imc_category_Obesity Class III',\n",
       "       'categorical__sex_male categorical__imc_category_Overweight',\n",
       "       'categorical__sex_male categorical__imc_category_Underweight',\n",
       "       'categorical__sex_male categorical__imc_category_None',\n",
       "       'categorical__sex_male numerical__age',\n",
       "       'categorical__sex_male numerical__children',\n",
       "       'categorical__smoker_no^2',\n",
       "       'categorical__smoker_no categorical__smoker_yes',\n",
       "       'categorical__smoker_no categorical__region_northeast',\n",
       "       'categorical__smoker_no categorical__region_northwest',\n",
       "       'categorical__smoker_no categorical__region_southeast',\n",
       "       'categorical__smoker_no categorical__region_southwest',\n",
       "       'categorical__smoker_no categorical__imc_category_Normal Weight',\n",
       "       'categorical__smoker_no categorical__imc_category_Obesity Class I',\n",
       "       'categorical__smoker_no categorical__imc_category_Obesity Class II',\n",
       "       'categorical__smoker_no categorical__imc_category_Obesity Class III',\n",
       "       'categorical__smoker_no categorical__imc_category_Overweight',\n",
       "       'categorical__smoker_no categorical__imc_category_Underweight',\n",
       "       'categorical__smoker_no categorical__imc_category_None',\n",
       "       'categorical__smoker_no numerical__age',\n",
       "       'categorical__smoker_no numerical__children',\n",
       "       'categorical__smoker_yes^2',\n",
       "       'categorical__smoker_yes categorical__region_northeast',\n",
       "       'categorical__smoker_yes categorical__region_northwest',\n",
       "       'categorical__smoker_yes categorical__region_southeast',\n",
       "       'categorical__smoker_yes categorical__region_southwest',\n",
       "       'categorical__smoker_yes categorical__imc_category_Normal Weight',\n",
       "       'categorical__smoker_yes categorical__imc_category_Obesity Class I',\n",
       "       'categorical__smoker_yes categorical__imc_category_Obesity Class II',\n",
       "       'categorical__smoker_yes categorical__imc_category_Obesity Class III',\n",
       "       'categorical__smoker_yes categorical__imc_category_Overweight',\n",
       "       'categorical__smoker_yes categorical__imc_category_Underweight',\n",
       "       'categorical__smoker_yes categorical__imc_category_None',\n",
       "       'categorical__smoker_yes numerical__age',\n",
       "       'categorical__smoker_yes numerical__children',\n",
       "       'categorical__region_northeast^2',\n",
       "       'categorical__region_northeast categorical__region_northwest',\n",
       "       'categorical__region_northeast categorical__region_southeast',\n",
       "       'categorical__region_northeast categorical__region_southwest',\n",
       "       'categorical__region_northeast categorical__imc_category_Normal Weight',\n",
       "       'categorical__region_northeast categorical__imc_category_Obesity Class I',\n",
       "       'categorical__region_northeast categorical__imc_category_Obesity Class II',\n",
       "       'categorical__region_northeast categorical__imc_category_Obesity Class III',\n",
       "       'categorical__region_northeast categorical__imc_category_Overweight',\n",
       "       'categorical__region_northeast categorical__imc_category_Underweight',\n",
       "       'categorical__region_northeast categorical__imc_category_None',\n",
       "       'categorical__region_northeast numerical__age',\n",
       "       'categorical__region_northeast numerical__children',\n",
       "       'categorical__region_northwest^2',\n",
       "       'categorical__region_northwest categorical__region_southeast',\n",
       "       'categorical__region_northwest categorical__region_southwest',\n",
       "       'categorical__region_northwest categorical__imc_category_Normal Weight',\n",
       "       'categorical__region_northwest categorical__imc_category_Obesity Class I',\n",
       "       'categorical__region_northwest categorical__imc_category_Obesity Class II',\n",
       "       'categorical__region_northwest categorical__imc_category_Obesity Class III',\n",
       "       'categorical__region_northwest categorical__imc_category_Overweight',\n",
       "       'categorical__region_northwest categorical__imc_category_Underweight',\n",
       "       'categorical__region_northwest categorical__imc_category_None',\n",
       "       'categorical__region_northwest numerical__age',\n",
       "       'categorical__region_northwest numerical__children',\n",
       "       'categorical__region_southeast^2',\n",
       "       'categorical__region_southeast categorical__region_southwest',\n",
       "       'categorical__region_southeast categorical__imc_category_Normal Weight',\n",
       "       'categorical__region_southeast categorical__imc_category_Obesity Class I',\n",
       "       'categorical__region_southeast categorical__imc_category_Obesity Class II',\n",
       "       'categorical__region_southeast categorical__imc_category_Obesity Class III',\n",
       "       'categorical__region_southeast categorical__imc_category_Overweight',\n",
       "       'categorical__region_southeast categorical__imc_category_Underweight',\n",
       "       'categorical__region_southeast categorical__imc_category_None',\n",
       "       'categorical__region_southeast numerical__age',\n",
       "       'categorical__region_southeast numerical__children',\n",
       "       'categorical__region_southwest^2',\n",
       "       'categorical__region_southwest categorical__imc_category_Normal Weight',\n",
       "       'categorical__region_southwest categorical__imc_category_Obesity Class I',\n",
       "       'categorical__region_southwest categorical__imc_category_Obesity Class II',\n",
       "       'categorical__region_southwest categorical__imc_category_Obesity Class III',\n",
       "       'categorical__region_southwest categorical__imc_category_Overweight',\n",
       "       'categorical__region_southwest categorical__imc_category_Underweight',\n",
       "       'categorical__region_southwest categorical__imc_category_None',\n",
       "       'categorical__region_southwest numerical__age',\n",
       "       'categorical__region_southwest numerical__children',\n",
       "       'categorical__imc_category_Normal Weight^2',\n",
       "       'categorical__imc_category_Normal Weight categorical__imc_category_Obesity Class I',\n",
       "       'categorical__imc_category_Normal Weight categorical__imc_category_Obesity Class II',\n",
       "       'categorical__imc_category_Normal Weight categorical__imc_category_Obesity Class III',\n",
       "       'categorical__imc_category_Normal Weight categorical__imc_category_Overweight',\n",
       "       'categorical__imc_category_Normal Weight categorical__imc_category_Underweight',\n",
       "       'categorical__imc_category_Normal Weight categorical__imc_category_None',\n",
       "       'categorical__imc_category_Normal Weight numerical__age',\n",
       "       'categorical__imc_category_Normal Weight numerical__children',\n",
       "       'categorical__imc_category_Obesity Class I^2',\n",
       "       'categorical__imc_category_Obesity Class I categorical__imc_category_Obesity Class II',\n",
       "       'categorical__imc_category_Obesity Class I categorical__imc_category_Obesity Class III',\n",
       "       'categorical__imc_category_Obesity Class I categorical__imc_category_Overweight',\n",
       "       'categorical__imc_category_Obesity Class I categorical__imc_category_Underweight',\n",
       "       'categorical__imc_category_Obesity Class I categorical__imc_category_None',\n",
       "       'categorical__imc_category_Obesity Class I numerical__age',\n",
       "       'categorical__imc_category_Obesity Class I numerical__children',\n",
       "       'categorical__imc_category_Obesity Class II^2',\n",
       "       'categorical__imc_category_Obesity Class II categorical__imc_category_Obesity Class III',\n",
       "       'categorical__imc_category_Obesity Class II categorical__imc_category_Overweight',\n",
       "       'categorical__imc_category_Obesity Class II categorical__imc_category_Underweight',\n",
       "       'categorical__imc_category_Obesity Class II categorical__imc_category_None',\n",
       "       'categorical__imc_category_Obesity Class II numerical__age',\n",
       "       'categorical__imc_category_Obesity Class II numerical__children',\n",
       "       'categorical__imc_category_Obesity Class III^2',\n",
       "       'categorical__imc_category_Obesity Class III categorical__imc_category_Overweight',\n",
       "       'categorical__imc_category_Obesity Class III categorical__imc_category_Underweight',\n",
       "       'categorical__imc_category_Obesity Class III categorical__imc_category_None',\n",
       "       'categorical__imc_category_Obesity Class III numerical__age',\n",
       "       'categorical__imc_category_Obesity Class III numerical__children',\n",
       "       'categorical__imc_category_Overweight^2',\n",
       "       'categorical__imc_category_Overweight categorical__imc_category_Underweight',\n",
       "       'categorical__imc_category_Overweight categorical__imc_category_None',\n",
       "       'categorical__imc_category_Overweight numerical__age',\n",
       "       'categorical__imc_category_Overweight numerical__children',\n",
       "       'categorical__imc_category_Underweight^2',\n",
       "       'categorical__imc_category_Underweight categorical__imc_category_None',\n",
       "       'categorical__imc_category_Underweight numerical__age',\n",
       "       'categorical__imc_category_Underweight numerical__children',\n",
       "       'categorical__imc_category_None^2',\n",
       "       'categorical__imc_category_None numerical__age',\n",
       "       'categorical__imc_category_None numerical__children',\n",
       "       'numerical__age^2', 'numerical__age numerical__children',\n",
       "       'numerical__children^2'], dtype=object)"
      ]
     },
     "execution_count": 377,
     "metadata": {},
     "output_type": "execute_result"
    }
   ],
   "source": [
    "feature_names = my_final_pipeline.get_feature_names_out(X.columns)\n",
    "feature_names"
   ]
  },
  {
   "cell_type": "markdown",
   "metadata": {},
   "source": [
    "Création du modèle de régression Lasso avec GridSearchCV :"
   ]
  },
  {
   "cell_type": "code",
   "execution_count": null,
   "metadata": {},
   "outputs": [],
   "source": [
    "model = make_pipeline(\n",
    "    my_final_pipeline,\n",
    "    Lasso(random_state=42, max_iter=100000)\n",
    ")"
   ]
  },
  {
   "cell_type": "markdown",
   "metadata": {},
   "source": [
    "Entraînement du modèle Lasso avec recherche de grille :"
   ]
  },
  {
   "cell_type": "code",
   "execution_count": null,
   "metadata": {},
   "outputs": [
    {
     "data": {
      "text/html": [
       "<style>#sk-container-id-32 {color: black;}#sk-container-id-32 pre{padding: 0;}#sk-container-id-32 div.sk-toggleable {background-color: white;}#sk-container-id-32 label.sk-toggleable__label {cursor: pointer;display: block;width: 100%;margin-bottom: 0;padding: 0.3em;box-sizing: border-box;text-align: center;}#sk-container-id-32 label.sk-toggleable__label-arrow:before {content: \"▸\";float: left;margin-right: 0.25em;color: #696969;}#sk-container-id-32 label.sk-toggleable__label-arrow:hover:before {color: black;}#sk-container-id-32 div.sk-estimator:hover label.sk-toggleable__label-arrow:before {color: black;}#sk-container-id-32 div.sk-toggleable__content {max-height: 0;max-width: 0;overflow: hidden;text-align: left;background-color: #f0f8ff;}#sk-container-id-32 div.sk-toggleable__content pre {margin: 0.2em;color: black;border-radius: 0.25em;background-color: #f0f8ff;}#sk-container-id-32 input.sk-toggleable__control:checked~div.sk-toggleable__content {max-height: 200px;max-width: 100%;overflow: auto;}#sk-container-id-32 input.sk-toggleable__control:checked~label.sk-toggleable__label-arrow:before {content: \"▾\";}#sk-container-id-32 div.sk-estimator input.sk-toggleable__control:checked~label.sk-toggleable__label {background-color: #d4ebff;}#sk-container-id-32 div.sk-label input.sk-toggleable__control:checked~label.sk-toggleable__label {background-color: #d4ebff;}#sk-container-id-32 input.sk-hidden--visually {border: 0;clip: rect(1px 1px 1px 1px);clip: rect(1px, 1px, 1px, 1px);height: 1px;margin: -1px;overflow: hidden;padding: 0;position: absolute;width: 1px;}#sk-container-id-32 div.sk-estimator {font-family: monospace;background-color: #f0f8ff;border: 1px dotted black;border-radius: 0.25em;box-sizing: border-box;margin-bottom: 0.5em;}#sk-container-id-32 div.sk-estimator:hover {background-color: #d4ebff;}#sk-container-id-32 div.sk-parallel-item::after {content: \"\";width: 100%;border-bottom: 1px solid gray;flex-grow: 1;}#sk-container-id-32 div.sk-label:hover label.sk-toggleable__label {background-color: #d4ebff;}#sk-container-id-32 div.sk-serial::before {content: \"\";position: absolute;border-left: 1px solid gray;box-sizing: border-box;top: 0;bottom: 0;left: 50%;z-index: 0;}#sk-container-id-32 div.sk-serial {display: flex;flex-direction: column;align-items: center;background-color: white;padding-right: 0.2em;padding-left: 0.2em;position: relative;}#sk-container-id-32 div.sk-item {position: relative;z-index: 1;}#sk-container-id-32 div.sk-parallel {display: flex;align-items: stretch;justify-content: center;background-color: white;position: relative;}#sk-container-id-32 div.sk-item::before, #sk-container-id-32 div.sk-parallel-item::before {content: \"\";position: absolute;border-left: 1px solid gray;box-sizing: border-box;top: 0;bottom: 0;left: 50%;z-index: -1;}#sk-container-id-32 div.sk-parallel-item {display: flex;flex-direction: column;z-index: 1;position: relative;background-color: white;}#sk-container-id-32 div.sk-parallel-item:first-child::after {align-self: flex-end;width: 50%;}#sk-container-id-32 div.sk-parallel-item:last-child::after {align-self: flex-start;width: 50%;}#sk-container-id-32 div.sk-parallel-item:only-child::after {width: 0;}#sk-container-id-32 div.sk-dashed-wrapped {border: 1px dashed gray;margin: 0 0.4em 0.5em 0.4em;box-sizing: border-box;padding-bottom: 0.4em;background-color: white;}#sk-container-id-32 div.sk-label label {font-family: monospace;font-weight: bold;display: inline-block;line-height: 1.2em;}#sk-container-id-32 div.sk-label-container {text-align: center;}#sk-container-id-32 div.sk-container {/* jupyter's `normalize.less` sets `[hidden] { display: none; }` but bootstrap.min.css set `[hidden] { display: none !important; }` so we also need the `!important` here to be able to override the default hidden behavior on the sphinx rendered scikit-learn.org. See: https://github.com/scikit-learn/scikit-learn/issues/21755 */display: inline-block !important;position: relative;}#sk-container-id-32 div.sk-text-repr-fallback {display: none;}</style><div id=\"sk-container-id-32\" class=\"sk-top-container\"><div class=\"sk-text-repr-fallback\"><pre>GridSearchCV(cv=5,\n",
       "             estimator=Pipeline(steps=[(&#x27;pipeline&#x27;,\n",
       "                                        Pipeline(steps=[(&#x27;columntransformer&#x27;,\n",
       "                                                         ColumnTransformer(transformers=[(&#x27;categorical&#x27;,\n",
       "                                                                                          Pipeline(steps=[(&#x27;onehotencoder&#x27;,\n",
       "                                                                                                           OneHotEncoder()),\n",
       "                                                                                                          (&#x27;robustscaler&#x27;,\n",
       "                                                                                                           RobustScaler(with_centering=False))]),\n",
       "                                                                                          [&#x27;sex&#x27;,\n",
       "                                                                                           &#x27;smoker&#x27;,\n",
       "                                                                                           &#x27;region&#x27;,\n",
       "                                                                                           &#x27;imc_category&#x27;]),\n",
       "                                                                                         (&#x27;numerical&#x27;,\n",
       "                                                                                          Pipeline(steps=[(&#x27;robustscaler&#x27;,\n",
       "                                                                                                           RobustScaler(with_centering=False))]),\n",
       "                                                                                          [&#x27;age&#x27;,\n",
       "                                                                                           &#x27;children&#x27;])])),\n",
       "                                                        (&#x27;pipeline&#x27;,\n",
       "                                                         Pipeline(steps=[(&#x27;polynomialfeatures&#x27;,\n",
       "                                                                          PolynomialFeatures())]))])),\n",
       "                                       (&#x27;lasso&#x27;,\n",
       "                                        Lasso(max_iter=100000,\n",
       "                                              random_state=42))]),\n",
       "             param_grid={&#x27;lasso__alpha&#x27;: [36, 37, 38, 39]})</pre><b>In a Jupyter environment, please rerun this cell to show the HTML representation or trust the notebook. <br />On GitHub, the HTML representation is unable to render, please try loading this page with nbviewer.org.</b></div><div class=\"sk-container\" hidden><div class=\"sk-item sk-dashed-wrapped\"><div class=\"sk-label-container\"><div class=\"sk-label sk-toggleable\"><input class=\"sk-toggleable__control sk-hidden--visually\" id=\"sk-estimator-id-338\" type=\"checkbox\" ><label for=\"sk-estimator-id-338\" class=\"sk-toggleable__label sk-toggleable__label-arrow\">GridSearchCV</label><div class=\"sk-toggleable__content\"><pre>GridSearchCV(cv=5,\n",
       "             estimator=Pipeline(steps=[(&#x27;pipeline&#x27;,\n",
       "                                        Pipeline(steps=[(&#x27;columntransformer&#x27;,\n",
       "                                                         ColumnTransformer(transformers=[(&#x27;categorical&#x27;,\n",
       "                                                                                          Pipeline(steps=[(&#x27;onehotencoder&#x27;,\n",
       "                                                                                                           OneHotEncoder()),\n",
       "                                                                                                          (&#x27;robustscaler&#x27;,\n",
       "                                                                                                           RobustScaler(with_centering=False))]),\n",
       "                                                                                          [&#x27;sex&#x27;,\n",
       "                                                                                           &#x27;smoker&#x27;,\n",
       "                                                                                           &#x27;region&#x27;,\n",
       "                                                                                           &#x27;imc_category&#x27;]),\n",
       "                                                                                         (&#x27;numerical&#x27;,\n",
       "                                                                                          Pipeline(steps=[(&#x27;robustscaler&#x27;,\n",
       "                                                                                                           RobustScaler(with_centering=False))]),\n",
       "                                                                                          [&#x27;age&#x27;,\n",
       "                                                                                           &#x27;children&#x27;])])),\n",
       "                                                        (&#x27;pipeline&#x27;,\n",
       "                                                         Pipeline(steps=[(&#x27;polynomialfeatures&#x27;,\n",
       "                                                                          PolynomialFeatures())]))])),\n",
       "                                       (&#x27;lasso&#x27;,\n",
       "                                        Lasso(max_iter=100000,\n",
       "                                              random_state=42))]),\n",
       "             param_grid={&#x27;lasso__alpha&#x27;: [36, 37, 38, 39]})</pre></div></div></div><div class=\"sk-parallel\"><div class=\"sk-parallel-item\"><div class=\"sk-item\"><div class=\"sk-label-container\"><div class=\"sk-label sk-toggleable\"><input class=\"sk-toggleable__control sk-hidden--visually\" id=\"sk-estimator-id-339\" type=\"checkbox\" ><label for=\"sk-estimator-id-339\" class=\"sk-toggleable__label sk-toggleable__label-arrow\">estimator: Pipeline</label><div class=\"sk-toggleable__content\"><pre>Pipeline(steps=[(&#x27;pipeline&#x27;,\n",
       "                 Pipeline(steps=[(&#x27;columntransformer&#x27;,\n",
       "                                  ColumnTransformer(transformers=[(&#x27;categorical&#x27;,\n",
       "                                                                   Pipeline(steps=[(&#x27;onehotencoder&#x27;,\n",
       "                                                                                    OneHotEncoder()),\n",
       "                                                                                   (&#x27;robustscaler&#x27;,\n",
       "                                                                                    RobustScaler(with_centering=False))]),\n",
       "                                                                   [&#x27;sex&#x27;,\n",
       "                                                                    &#x27;smoker&#x27;,\n",
       "                                                                    &#x27;region&#x27;,\n",
       "                                                                    &#x27;imc_category&#x27;]),\n",
       "                                                                  (&#x27;numerical&#x27;,\n",
       "                                                                   Pipeline(steps=[(&#x27;robustscaler&#x27;,\n",
       "                                                                                    RobustScaler(with_centering=False))]),\n",
       "                                                                   [&#x27;age&#x27;,\n",
       "                                                                    &#x27;children&#x27;])])),\n",
       "                                 (&#x27;pipeline&#x27;,\n",
       "                                  Pipeline(steps=[(&#x27;polynomialfeatures&#x27;,\n",
       "                                                   PolynomialFeatures())]))])),\n",
       "                (&#x27;lasso&#x27;, Lasso(max_iter=100000, random_state=42))])</pre></div></div></div><div class=\"sk-serial\"><div class=\"sk-item\"><div class=\"sk-serial\"><div class=\"sk-item\"><div class=\"sk-label-container\"><div class=\"sk-label sk-toggleable\"><input class=\"sk-toggleable__control sk-hidden--visually\" id=\"sk-estimator-id-340\" type=\"checkbox\" ><label for=\"sk-estimator-id-340\" class=\"sk-toggleable__label sk-toggleable__label-arrow\">pipeline: Pipeline</label><div class=\"sk-toggleable__content\"><pre>Pipeline(steps=[(&#x27;columntransformer&#x27;,\n",
       "                 ColumnTransformer(transformers=[(&#x27;categorical&#x27;,\n",
       "                                                  Pipeline(steps=[(&#x27;onehotencoder&#x27;,\n",
       "                                                                   OneHotEncoder()),\n",
       "                                                                  (&#x27;robustscaler&#x27;,\n",
       "                                                                   RobustScaler(with_centering=False))]),\n",
       "                                                  [&#x27;sex&#x27;, &#x27;smoker&#x27;, &#x27;region&#x27;,\n",
       "                                                   &#x27;imc_category&#x27;]),\n",
       "                                                 (&#x27;numerical&#x27;,\n",
       "                                                  Pipeline(steps=[(&#x27;robustscaler&#x27;,\n",
       "                                                                   RobustScaler(with_centering=False))]),\n",
       "                                                  [&#x27;age&#x27;, &#x27;children&#x27;])])),\n",
       "                (&#x27;pipeline&#x27;,\n",
       "                 Pipeline(steps=[(&#x27;polynomialfeatures&#x27;,\n",
       "                                  PolynomialFeatures())]))])</pre></div></div></div><div class=\"sk-serial\"><div class=\"sk-item sk-dashed-wrapped\"><div class=\"sk-label-container\"><div class=\"sk-label sk-toggleable\"><input class=\"sk-toggleable__control sk-hidden--visually\" id=\"sk-estimator-id-341\" type=\"checkbox\" ><label for=\"sk-estimator-id-341\" class=\"sk-toggleable__label sk-toggleable__label-arrow\">columntransformer: ColumnTransformer</label><div class=\"sk-toggleable__content\"><pre>ColumnTransformer(transformers=[(&#x27;categorical&#x27;,\n",
       "                                 Pipeline(steps=[(&#x27;onehotencoder&#x27;,\n",
       "                                                  OneHotEncoder()),\n",
       "                                                 (&#x27;robustscaler&#x27;,\n",
       "                                                  RobustScaler(with_centering=False))]),\n",
       "                                 [&#x27;sex&#x27;, &#x27;smoker&#x27;, &#x27;region&#x27;, &#x27;imc_category&#x27;]),\n",
       "                                (&#x27;numerical&#x27;,\n",
       "                                 Pipeline(steps=[(&#x27;robustscaler&#x27;,\n",
       "                                                  RobustScaler(with_centering=False))]),\n",
       "                                 [&#x27;age&#x27;, &#x27;children&#x27;])])</pre></div></div></div><div class=\"sk-parallel\"><div class=\"sk-parallel-item\"><div class=\"sk-item\"><div class=\"sk-label-container\"><div class=\"sk-label sk-toggleable\"><input class=\"sk-toggleable__control sk-hidden--visually\" id=\"sk-estimator-id-342\" type=\"checkbox\" ><label for=\"sk-estimator-id-342\" class=\"sk-toggleable__label sk-toggleable__label-arrow\">categorical</label><div class=\"sk-toggleable__content\"><pre>[&#x27;sex&#x27;, &#x27;smoker&#x27;, &#x27;region&#x27;, &#x27;imc_category&#x27;]</pre></div></div></div><div class=\"sk-serial\"><div class=\"sk-item\"><div class=\"sk-serial\"><div class=\"sk-item\"><div class=\"sk-estimator sk-toggleable\"><input class=\"sk-toggleable__control sk-hidden--visually\" id=\"sk-estimator-id-343\" type=\"checkbox\" ><label for=\"sk-estimator-id-343\" class=\"sk-toggleable__label sk-toggleable__label-arrow\">OneHotEncoder</label><div class=\"sk-toggleable__content\"><pre>OneHotEncoder()</pre></div></div></div><div class=\"sk-item\"><div class=\"sk-estimator sk-toggleable\"><input class=\"sk-toggleable__control sk-hidden--visually\" id=\"sk-estimator-id-344\" type=\"checkbox\" ><label for=\"sk-estimator-id-344\" class=\"sk-toggleable__label sk-toggleable__label-arrow\">RobustScaler</label><div class=\"sk-toggleable__content\"><pre>RobustScaler(with_centering=False)</pre></div></div></div></div></div></div></div></div><div class=\"sk-parallel-item\"><div class=\"sk-item\"><div class=\"sk-label-container\"><div class=\"sk-label sk-toggleable\"><input class=\"sk-toggleable__control sk-hidden--visually\" id=\"sk-estimator-id-345\" type=\"checkbox\" ><label for=\"sk-estimator-id-345\" class=\"sk-toggleable__label sk-toggleable__label-arrow\">numerical</label><div class=\"sk-toggleable__content\"><pre>[&#x27;age&#x27;, &#x27;children&#x27;]</pre></div></div></div><div class=\"sk-serial\"><div class=\"sk-item\"><div class=\"sk-serial\"><div class=\"sk-item\"><div class=\"sk-estimator sk-toggleable\"><input class=\"sk-toggleable__control sk-hidden--visually\" id=\"sk-estimator-id-346\" type=\"checkbox\" ><label for=\"sk-estimator-id-346\" class=\"sk-toggleable__label sk-toggleable__label-arrow\">RobustScaler</label><div class=\"sk-toggleable__content\"><pre>RobustScaler(with_centering=False)</pre></div></div></div></div></div></div></div></div></div></div><div class=\"sk-item\"><div class=\"sk-label-container\"><div class=\"sk-label sk-toggleable\"><input class=\"sk-toggleable__control sk-hidden--visually\" id=\"sk-estimator-id-347\" type=\"checkbox\" ><label for=\"sk-estimator-id-347\" class=\"sk-toggleable__label sk-toggleable__label-arrow\">pipeline: Pipeline</label><div class=\"sk-toggleable__content\"><pre>Pipeline(steps=[(&#x27;polynomialfeatures&#x27;, PolynomialFeatures())])</pre></div></div></div><div class=\"sk-serial\"><div class=\"sk-item\"><div class=\"sk-estimator sk-toggleable\"><input class=\"sk-toggleable__control sk-hidden--visually\" id=\"sk-estimator-id-348\" type=\"checkbox\" ><label for=\"sk-estimator-id-348\" class=\"sk-toggleable__label sk-toggleable__label-arrow\">PolynomialFeatures</label><div class=\"sk-toggleable__content\"><pre>PolynomialFeatures()</pre></div></div></div></div></div></div></div><div class=\"sk-item\"><div class=\"sk-estimator sk-toggleable\"><input class=\"sk-toggleable__control sk-hidden--visually\" id=\"sk-estimator-id-349\" type=\"checkbox\" ><label for=\"sk-estimator-id-349\" class=\"sk-toggleable__label sk-toggleable__label-arrow\">Lasso</label><div class=\"sk-toggleable__content\"><pre>Lasso(max_iter=100000, random_state=42)</pre></div></div></div></div></div></div></div></div></div></div></div></div>"
      ],
      "text/plain": [
       "GridSearchCV(cv=5,\n",
       "             estimator=Pipeline(steps=[('pipeline',\n",
       "                                        Pipeline(steps=[('columntransformer',\n",
       "                                                         ColumnTransformer(transformers=[('categorical',\n",
       "                                                                                          Pipeline(steps=[('onehotencoder',\n",
       "                                                                                                           OneHotEncoder()),\n",
       "                                                                                                          ('robustscaler',\n",
       "                                                                                                           RobustScaler(with_centering=False))]),\n",
       "                                                                                          ['sex',\n",
       "                                                                                           'smoker',\n",
       "                                                                                           'region',\n",
       "                                                                                           'imc_category']),\n",
       "                                                                                         ('numerical',\n",
       "                                                                                          Pipeline(steps=[('robustscaler',\n",
       "                                                                                                           RobustScaler(with_centering=False))]),\n",
       "                                                                                          ['age',\n",
       "                                                                                           'children'])])),\n",
       "                                                        ('pipeline',\n",
       "                                                         Pipeline(steps=[('polynomialfeatures',\n",
       "                                                                          PolynomialFeatures())]))])),\n",
       "                                       ('lasso',\n",
       "                                        Lasso(max_iter=100000,\n",
       "                                              random_state=42))]),\n",
       "             param_grid={'lasso__alpha': [36, 37, 38, 39]})"
      ]
     },
     "execution_count": 379,
     "metadata": {},
     "output_type": "execute_result"
    }
   ],
   "source": [
    "model = GridSearchCV(model, param_grid,cv =5)\n",
    "model.fit(X_train, y_train)"
   ]
  },
  {
   "cell_type": "markdown",
   "metadata": {},
   "source": [
    "Évaluation du modèle sur les données d'entraînement :"
   ]
  },
  {
   "cell_type": "code",
   "execution_count": null,
   "metadata": {},
   "outputs": [],
   "source": [
    "grid_score = model.score(X_train, y_train)\n",
    "best_alpha = model.best_params_['lasso__alpha']"
   ]
  },
  {
   "cell_type": "markdown",
   "metadata": {},
   "source": [
    "Prédiction sur les données de test :"
   ]
  },
  {
   "cell_type": "code",
   "execution_count": null,
   "metadata": {},
   "outputs": [],
   "source": [
    "y_pred = model.predict(X_test)"
   ]
  },
  {
   "cell_type": "markdown",
   "metadata": {},
   "source": [
    "Évaluation du modèle :"
   ]
  },
  {
   "cell_type": "code",
   "execution_count": null,
   "metadata": {},
   "outputs": [
    {
     "name": "stdout",
     "output_type": "stream",
     "text": [
      "Performance du modèle après suppression des valeurs extrêmes:\n",
      "0.8559809626895564\n",
      "{'lasso__alpha': 36}\n",
      "R2 Score: 0.9231\n",
      "MAE: 2051.44\n",
      "RMSE: 3338.52\n"
     ]
    }
   ],
   "source": [
    "r2_cleaned = r2_score(y_test, y_pred)\n",
    "mse_cleaned = mean_squared_error(y_test, y_pred)\n",
    "mae = mean_absolute_error(y_test, y_pred)\n",
    "rmse_cleaned = np.sqrt(mse_cleaned)\n",
    "\n",
    "print(\"Performance du modèle après suppression des valeurs extrêmes:\")\n",
    "print(grid_score)\n",
    "print(model.best_params_)\n",
    "print(f\"R2 Score: {r2_cleaned:.4f}\")\n",
    "print(f\"MAE: {mae:.2f}\")\n",
    "print(f\"RMSE: {rmse_cleaned:.2f}\")"
   ]
  },
  {
   "cell_type": "markdown",
   "metadata": {},
   "source": [
    "Sauvegarde du modèle :"
   ]
  },
  {
   "cell_type": "code",
   "execution_count": null,
   "metadata": {},
   "outputs": [],
   "source": [
    "with open('modele.pkl', 'wb') as file:\n",
    "    pickle.dump(grid_search, file)"
   ]
  }
 ],
 "metadata": {
  "kernelspec": {
   "display_name": "Python 3",
   "language": "python",
   "name": "python3"
  },
  "language_info": {
   "codemirror_mode": {
    "name": "ipython",
    "version": 3
   },
   "file_extension": ".py",
   "mimetype": "text/x-python",
   "name": "python",
   "nbconvert_exporter": "python",
   "pygments_lexer": "ipython3",
   "version": "3.10.12"
  }
 },
 "nbformat": 4,
 "nbformat_minor": 2
}
