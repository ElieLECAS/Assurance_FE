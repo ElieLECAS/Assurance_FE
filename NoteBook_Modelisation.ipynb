{
 "cells": [
  {
   "cell_type": "code",
   "execution_count": 122,
   "metadata": {},
   "outputs": [],
   "source": [
    "import os\n",
    "import pickle\n",
    "import pandas as pd\n",
    "import numpy as np\n",
    "import seaborn as sns\n",
    "import matplotlib.pyplot as plt\n",
    "from sklearn.utils import resample\n",
    "from sklearn.linear_model import Lasso, Ridge, ElasticNet, LinearRegression\n",
    "from sklearn.preprocessing import StandardScaler, MinMaxScaler, PolynomialFeatures, RobustScaler, OneHotEncoder\n",
    "from sklearn.model_selection import train_test_split, GridSearchCV\n",
    "from sklearn.metrics import mean_absolute_error, r2_score, mean_squared_error\n",
    "from sklearn.pipeline import make_pipeline\n",
    "from sklearn.compose import ColumnTransformer, make_column_transformer"
   ]
  },
  {
   "cell_type": "code",
   "execution_count": 123,
   "metadata": {},
   "outputs": [
    {
     "name": "stdout",
     "output_type": "stream",
     "text": [
      "['NoteBook_Modelisation.ipynb', 'streamlit.py', 'OIG.jpeg', 'Clean_Dataset_Brief.csv', '.venv', 'BroullonEli_Cleaned.ipynb', 'NoteBook_Netoyage.ipynb', 'modele.pkl', '.git', 'Guide.txt', 'note.txt', 'Dataset_Brief.csv', 'README.md', 'BroullonEli.ipynb', 'BrouillonFlo.ipynb', 'requirements.txt', 'NoteBook_Analyse.ipynb', '.gitignore']\n"
     ]
    }
   ],
   "source": [
    "os.chdir('/home/utilisateur/projet/Assurance/Assurance_FE/')\n",
    "print(os.listdir())\n",
    "dataset_path = \"Clean_Dataset_Brief.csv\"\n",
    "df_clean = pd.read_csv(dataset_path)"
   ]
  },
  {
   "cell_type": "code",
   "execution_count": 124,
   "metadata": {},
   "outputs": [],
   "source": [
    "# df_clean.describe()"
   ]
  },
  {
   "cell_type": "markdown",
   "metadata": {},
   "source": [
    "Selection des features pour prédiction.\n",
    "\n",
    "Définir target y."
   ]
  },
  {
   "cell_type": "code",
   "execution_count": 125,
   "metadata": {},
   "outputs": [],
   "source": [
    "# selected_features = ['age', 'Jeune', 'Adulte', 'Adulte_moyen', 'Senior', 'Très_senior', 'sex', 'is_female', 'is_male', 'bmi', 'Insuffisance pondérale', 'Poids_normal', 'Surpoids', 'Obésité_de_classe_I_(modérée)', 'Obésité_de_classe_II_(sévère)', 'children', 'children_0', 'children_1', 'children_2', 'children_3', 'children_4', 'children_5', 'smoker','is_smoker', 'is_not_smoker', 'is_southwest', 'is_southeast', 'is_northwest', 'is_northeast']\n",
    "\n",
    "# x = df_clean[selected_features]\n",
    "# y = df_clean['charges']"
   ]
  },
  {
   "cell_type": "markdown",
   "metadata": {},
   "source": [
    "Faire le split train/test avec pour ratio commun is_smoker."
   ]
  },
  {
   "cell_type": "code",
   "execution_count": 126,
   "metadata": {},
   "outputs": [],
   "source": [
    "# X_train, X_test, y_train, y_test = train_test_split(x, y, shuffle=True, train_size=0.85, random_state=42, stratify=x['smoker'])"
   ]
  },
  {
   "cell_type": "code",
   "execution_count": 127,
   "metadata": {},
   "outputs": [],
   "source": [
    "# param_grid = {'lasso__alpha': list(range(230, 244))}\n",
    "\n",
    "# model = make_pipeline(\n",
    "#     StandardScaler(),\n",
    "#     PolynomialFeatures(degree=2),\n",
    "#     Lasso(random_state=42, max_iter=100000)\n",
    "# )\n",
    "\n",
    "# grid_search = GridSearchCV(model, param_grid, cv=5)\n",
    "# grid_search.fit(X_train, y_train)\n",
    "# best_alpha = grid_search.best_params_['lasso__alpha']\n",
    "# y_pred = grid_search.predict(X_test)\n",
    "\n",
    "# r2 = r2_score(y_test, y_pred)\n",
    "# mse = mean_squared_error(y_test, y_pred)\n",
    "# rmse = np.sqrt(mse)\n",
    "\n",
    "# print(grid_search.best_params_)\n",
    "# print(\"Performance du modèle final:\")\n",
    "# print(f\"R2 Score: {r2:.4f}\")\n",
    "# print(f\"RMSE: {rmse:.2f}\")\n"
   ]
  },
  {
   "cell_type": "code",
   "execution_count": 128,
   "metadata": {},
   "outputs": [],
   "source": [
    "# model.fit(X_train, y_train)\n",
    "# residuals_train = y_train - model.predict(X_train)\n",
    "# outlier_indices_train = np.where(np.abs(residuals_train) > 3000)[0]\n",
    "\n",
    "# print(\"Indices des valeurs aberrantes dans l'ensemble d'entraînement :\", outlier_indices_train)\n",
    "# print(\"Nombre d'indices trouvés :\", len(outlier_indices_train))"
   ]
  },
  {
   "cell_type": "code",
   "execution_count": 129,
   "metadata": {},
   "outputs": [],
   "source": [
    "# Filtrer les valeurs aberrantes de X_train et y_train_cleaned\n",
    "# X_train_cleaned = X_train.iloc[~X_train.index.isin(outlier_indices_train)]\n",
    "# y_train_cleaned = y_train.iloc[~y_train.index.isin(outlier_indices_train)]"
   ]
  },
  {
   "cell_type": "code",
   "execution_count": 130,
   "metadata": {},
   "outputs": [],
   "source": [
    "data_path = \"Dataset_Brief.csv\"\n",
    "df = pd.read_csv(data_path)"
   ]
  },
  {
   "cell_type": "code",
   "execution_count": 131,
   "metadata": {},
   "outputs": [],
   "source": [
    "missing_rate = df.isna().sum()/df.shape[0]\n",
    "missing_rate\n",
    "df = df.dropna()\n",
    "duplicates = df.duplicated()\n",
    "duplicates_data = df[duplicates]\n",
    "df = df.drop_duplicates(subset=[\"age\", \"sex\", \"bmi\", \"children\", \"smoker\", \"region\"], keep='first')"
   ]
  },
  {
   "cell_type": "code",
   "execution_count": 132,
   "metadata": {},
   "outputs": [],
   "source": [
    "selected_features = ['age','sex' ,'bmi', 'children', 'smoker', 'region']\n",
    "X = df[selected_features]\n",
    "y = df['charges']"
   ]
  },
  {
   "cell_type": "code",
   "execution_count": 133,
   "metadata": {},
   "outputs": [],
   "source": [
    "X_train, X_test, y_train, y_test = train_test_split(X, y, shuffle=True, train_size=0.85, random_state=42, stratify=X['smoker'])"
   ]
  },
  {
   "cell_type": "code",
   "execution_count": 134,
   "metadata": {},
   "outputs": [
    {
     "name": "stdout",
     "output_type": "stream",
     "text": [
      "Performance du modèle après suppression des valeurs extrêmes:\n",
      "{'lasso__alpha': 15}\n",
      "R2 Score: 0.8614\n",
      "MAE: 2725.26\n",
      "RMSE: 4489.57\n"
     ]
    }
   ],
   "source": [
    "num_col = list(X.select_dtypes(include=[float,int]).columns)\n",
    "cat_col = list(X.select_dtypes(include=[object]).columns)\n",
    "\n",
    "onehotscale_pipeline = make_pipeline(OneHotEncoder(), RobustScaler(with_centering=False))\n",
    "scale_pipeline = make_pipeline(RobustScaler(with_centering=False))\n",
    "\n",
    "preprocessing = ColumnTransformer(\n",
    "    transformers=[\n",
    "        ('categorical', onehotscale_pipeline, cat_col),\n",
    "        ('numerical', scale_pipeline, num_col)]\n",
    ")\n",
    "\n",
    "param_grid = {'lasso__alpha': list(range(10, 55))}\n",
    "\n",
    "\n",
    "polyscale_pipeline = make_pipeline(PolynomialFeatures(2))\n",
    "\n",
    "my_final_pipeline = make_pipeline(preprocessing, polyscale_pipeline)\n",
    "my_final_pipeline.fit(X_train)\n",
    "\n",
    "model = make_pipeline(\n",
    "    my_final_pipeline,\n",
    "    Lasso(random_state=42, max_iter=100000)\n",
    ")\n",
    "\n",
    "grid_search = GridSearchCV(model, param_grid,cv =5)\n",
    "grid_search.fit(X_train, y_train)\n",
    "grid_score = grid_search.score(X_train, y_train)\n",
    "\n",
    "best_alpha = grid_search.best_params_['lasso__alpha']\n",
    "\n",
    "y_pred = grid_search.predict(X_test)\n",
    "\n",
    "r2_cleaned = r2_score(y_test, y_pred)\n",
    "mse_cleaned = mean_squared_error(y_test, y_pred)\n",
    "mae = mean_absolute_error(y_test, y_pred)\n",
    "rmse_cleaned = np.sqrt(mse_cleaned)\n",
    "\n",
    "print(\"Performance du modèle après suppression des valeurs extrêmes:\")\n",
    "print(grid_search.best_params_)\n",
    "print(f\"R2 Score: {r2_cleaned:.4f}\")\n",
    "print(f\"MAE: {mae:.2f}\")\n",
    "print(f\"RMSE: {rmse_cleaned:.2f}\")\n",
    " \n",
    "with open('modele.pkl', 'wb') as file:\n",
    "    pickle.dump(grid_search, file)"
   ]
  }
 ],
 "metadata": {
  "kernelspec": {
   "display_name": "Python 3",
   "language": "python",
   "name": "python3"
  },
  "language_info": {
   "codemirror_mode": {
    "name": "ipython",
    "version": 3
   },
   "file_extension": ".py",
   "mimetype": "text/x-python",
   "name": "python",
   "nbconvert_exporter": "python",
   "pygments_lexer": "ipython3",
   "version": "3.10.12"
  }
 },
 "nbformat": 4,
 "nbformat_minor": 2
}
