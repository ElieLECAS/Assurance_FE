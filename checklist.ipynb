{
 "cells": [
  {
   "cell_type": "code",
   "execution_count": null,
   "metadata": {},
   "outputs": [],
   "source": [
    "import pandas as pd\n"
   ]
  },
  {
   "cell_type": "markdown",
   "metadata": {},
   "source": [
    "1.Exploratory Data Analysis\n",
    "Objectif: 1\n",
    "- Comprendre du mieux possible nos données.\n",
    "- Développer une premiere stratégie de modélisation\n",
    "\n",
    "Checklist de Base\n",
    "Analyse de Forme:\n",
    "- variable target: Charge\n",
    "- ligne de colonnes: 7\n",
    "- ligne de variable "
   ]
  },
  {
   "cell_type": "code",
   "execution_count": null,
   "metadata": {},
   "outputs": [],
   "source": [
    "\n",
    "dataset_path = \"C:\\Users\\33679\\OneDrive\\Bureau\\Nouveau dossier (3)\\Projet assurance\\Assurance_FE\\Dataset_Brief.csv\"\n",
    "df = pd.read_csv(dataset_path)"
   ]
  },
  {
   "cell_type": "markdown",
   "metadata": {},
   "source": []
  },
  {
   "cell_type": "code",
   "execution_count": null,
   "metadata": {},
   "outputs": [],
   "source": [
    "# Vérifier les valeurs manquantes\n",
    "print(df.isnull().sum())"
   ]
  }
 ],
 "metadata": {
  "kernelspec": {
   "display_name": "Python 3",
   "language": "python",
   "name": "python3"
  },
  "language_info": {
   "name": "python",
   "version": "3.11.3"
  }
 },
 "nbformat": 4,
 "nbformat_minor": 2
}
